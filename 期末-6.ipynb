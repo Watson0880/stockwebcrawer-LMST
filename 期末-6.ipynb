{
 "cells": [
  {
   "cell_type": "code",
   "execution_count": 1,
   "id": "careful-riding",
   "metadata": {},
   "outputs": [
    {
     "name": "stdout",
     "output_type": "stream",
     "text": [
      "env: KERAS_BACKEND=tensorflow\n"
     ]
    }
   ],
   "source": [
    "%env KERAS_BACKEND=tensorflow"
   ]
  },
  {
   "cell_type": "code",
   "execution_count": 2,
   "id": "cleared-surgery",
   "metadata": {},
   "outputs": [
    {
     "name": "stderr",
     "output_type": "stream",
     "text": [
      "c:\\users\\watso\\appdata\\local\\programs\\python\\python36\\lib\\site-packages\\tensorflow\\python\\framework\\dtypes.py:526: FutureWarning: Passing (type, 1) or '1type' as a synonym of type is deprecated; in a future version of numpy, it will be understood as (type, (1,)) / '(1,)type'.\n",
      "  _np_qint8 = np.dtype([(\"qint8\", np.int8, 1)])\n",
      "c:\\users\\watso\\appdata\\local\\programs\\python\\python36\\lib\\site-packages\\tensorflow\\python\\framework\\dtypes.py:527: FutureWarning: Passing (type, 1) or '1type' as a synonym of type is deprecated; in a future version of numpy, it will be understood as (type, (1,)) / '(1,)type'.\n",
      "  _np_quint8 = np.dtype([(\"quint8\", np.uint8, 1)])\n",
      "c:\\users\\watso\\appdata\\local\\programs\\python\\python36\\lib\\site-packages\\tensorflow\\python\\framework\\dtypes.py:528: FutureWarning: Passing (type, 1) or '1type' as a synonym of type is deprecated; in a future version of numpy, it will be understood as (type, (1,)) / '(1,)type'.\n",
      "  _np_qint16 = np.dtype([(\"qint16\", np.int16, 1)])\n",
      "c:\\users\\watso\\appdata\\local\\programs\\python\\python36\\lib\\site-packages\\tensorflow\\python\\framework\\dtypes.py:529: FutureWarning: Passing (type, 1) or '1type' as a synonym of type is deprecated; in a future version of numpy, it will be understood as (type, (1,)) / '(1,)type'.\n",
      "  _np_quint16 = np.dtype([(\"quint16\", np.uint16, 1)])\n",
      "c:\\users\\watso\\appdata\\local\\programs\\python\\python36\\lib\\site-packages\\tensorflow\\python\\framework\\dtypes.py:530: FutureWarning: Passing (type, 1) or '1type' as a synonym of type is deprecated; in a future version of numpy, it will be understood as (type, (1,)) / '(1,)type'.\n",
      "  _np_qint32 = np.dtype([(\"qint32\", np.int32, 1)])\n",
      "c:\\users\\watso\\appdata\\local\\programs\\python\\python36\\lib\\site-packages\\tensorflow\\python\\framework\\dtypes.py:535: FutureWarning: Passing (type, 1) or '1type' as a synonym of type is deprecated; in a future version of numpy, it will be understood as (type, (1,)) / '(1,)type'.\n",
      "  np_resource = np.dtype([(\"resource\", np.ubyte, 1)])\n",
      "Using TensorFlow backend.\n"
     ]
    }
   ],
   "source": [
    "%matplotlib inline\n",
    "import numpy as np\n",
    "import tensorflow as tf\n",
    "import pandas as pd\n",
    "import matplotlib.pyplot as plt\n",
    "from keras.preprocessing import sequence\n",
    "from keras.models import Sequential\n",
    "from keras.layers import Dense, Embedding\n",
    "from keras.layers import LSTM\n",
    "import seaborn as sns\n",
    "from sklearn.metrics import confusion_matrix\n",
    "from sklearn.metrics import classification_report\n",
    "import matplotlib.pyplot as plt\n",
    "from sklearn.preprocessing import MinMaxScaler\n",
    "from keras.layers import Dropout\n",
    "\n",
    "tr = 1406\n",
    "te = 156\n",
    "day = 10"
   ]
  },
  {
   "cell_type": "code",
   "execution_count": 3,
   "id": "loose-palace",
   "metadata": {},
   "outputs": [
    {
     "data": {
      "text/html": [
       "<div>\n",
       "<style scoped>\n",
       "    .dataframe tbody tr th:only-of-type {\n",
       "        vertical-align: middle;\n",
       "    }\n",
       "\n",
       "    .dataframe tbody tr th {\n",
       "        vertical-align: top;\n",
       "    }\n",
       "\n",
       "    .dataframe thead th {\n",
       "        text-align: right;\n",
       "    }\n",
       "</style>\n",
       "<table border=\"1\" class=\"dataframe\">\n",
       "  <thead>\n",
       "    <tr style=\"text-align: right;\">\n",
       "      <th></th>\n",
       "      <th>date</th>\n",
       "      <th>Closing price</th>\n",
       "    </tr>\n",
       "  </thead>\n",
       "  <tbody>\n",
       "    <tr>\n",
       "      <th>0</th>\n",
       "      <td>2016/1/4</td>\n",
       "      <td>139.5</td>\n",
       "    </tr>\n",
       "    <tr>\n",
       "      <th>1</th>\n",
       "      <td>2016/1/5</td>\n",
       "      <td>138.0</td>\n",
       "    </tr>\n",
       "    <tr>\n",
       "      <th>2</th>\n",
       "      <td>2016/1/6</td>\n",
       "      <td>135.5</td>\n",
       "    </tr>\n",
       "    <tr>\n",
       "      <th>3</th>\n",
       "      <td>2016/1/7</td>\n",
       "      <td>133.0</td>\n",
       "    </tr>\n",
       "    <tr>\n",
       "      <th>4</th>\n",
       "      <td>2016/1/8</td>\n",
       "      <td>134.0</td>\n",
       "    </tr>\n",
       "    <tr>\n",
       "      <th>...</th>\n",
       "      <td>...</td>\n",
       "      <td>...</td>\n",
       "    </tr>\n",
       "    <tr>\n",
       "      <th>1557</th>\n",
       "      <td>2022/5/23</td>\n",
       "      <td>528.0</td>\n",
       "    </tr>\n",
       "    <tr>\n",
       "      <th>1558</th>\n",
       "      <td>2022/5/24</td>\n",
       "      <td>520.0</td>\n",
       "    </tr>\n",
       "    <tr>\n",
       "      <th>1559</th>\n",
       "      <td>2022/5/25</td>\n",
       "      <td>524.0</td>\n",
       "    </tr>\n",
       "    <tr>\n",
       "      <th>1560</th>\n",
       "      <td>2022/5/26</td>\n",
       "      <td>514.0</td>\n",
       "    </tr>\n",
       "    <tr>\n",
       "      <th>1561</th>\n",
       "      <td>2022/5/27</td>\n",
       "      <td>530.0</td>\n",
       "    </tr>\n",
       "  </tbody>\n",
       "</table>\n",
       "<p>1562 rows × 2 columns</p>\n",
       "</div>"
      ],
      "text/plain": [
       "           date  Closing price\n",
       "0      2016/1/4          139.5\n",
       "1      2016/1/5          138.0\n",
       "2      2016/1/6          135.5\n",
       "3      2016/1/7          133.0\n",
       "4      2016/1/8          134.0\n",
       "...         ...            ...\n",
       "1557  2022/5/23          528.0\n",
       "1558  2022/5/24          520.0\n",
       "1559  2022/5/25          524.0\n",
       "1560  2022/5/26          514.0\n",
       "1561  2022/5/27          530.0\n",
       "\n",
       "[1562 rows x 2 columns]"
      ]
     },
     "execution_count": 3,
     "metadata": {},
     "output_type": "execute_result"
    }
   ],
   "source": [
    "df = pd.read_csv(\"stock105_111.csv\")\n",
    "df"
   ]
  },
  {
   "cell_type": "code",
   "execution_count": 4,
   "id": "framed-vampire",
   "metadata": {},
   "outputs": [
    {
     "data": {
      "text/plain": [
       "(0       139.5\n",
       " 1       138.0\n",
       " 2       135.5\n",
       " 3       133.0\n",
       " 4       134.0\n",
       "         ...  \n",
       " 1401    594.0\n",
       " 1402    580.0\n",
       " 1403    580.0\n",
       " 1404    574.0\n",
       " 1405    572.0\n",
       " Name: Closing price, Length: 1406, dtype: float64,\n",
       " (1406,))"
      ]
     },
     "execution_count": 4,
     "metadata": {},
     "output_type": "execute_result"
    }
   ],
   "source": [
    "train = df['Closing price']\n",
    "train = train.iloc[0:tr]\n",
    "train,train.shape"
   ]
  },
  {
   "cell_type": "code",
   "execution_count": 5,
   "id": "single-russia",
   "metadata": {},
   "outputs": [
    {
     "data": {
      "text/plain": [
       "(1406    572.0\n",
       " 1407    571.0\n",
       " 1408    580.0\n",
       " 1409    575.0\n",
       " 1410    575.0\n",
       "         ...  \n",
       " 1557    528.0\n",
       " 1558    520.0\n",
       " 1559    524.0\n",
       " 1560    514.0\n",
       " 1561    530.0\n",
       " Name: Closing price, Length: 156, dtype: float64,\n",
       " (156,))"
      ]
     },
     "execution_count": 5,
     "metadata": {},
     "output_type": "execute_result"
    }
   ],
   "source": [
    "test = df['Closing price']\n",
    "test = test.iloc[tr:]\n",
    "test,test.shape"
   ]
  },
  {
   "cell_type": "code",
   "execution_count": 6,
   "id": "editorial-crossing",
   "metadata": {},
   "outputs": [
    {
     "data": {
      "text/plain": [
       "(pandas.core.series.Series, numpy.ndarray)"
      ]
     },
     "execution_count": 6,
     "metadata": {},
     "output_type": "execute_result"
    }
   ],
   "source": [
    "train_set = np.array(train)\n",
    "test_set = np.array(test)\n",
    "type(train),type(train_set)"
   ]
  },
  {
   "cell_type": "code",
   "execution_count": 7,
   "id": "fuzzy-style",
   "metadata": {},
   "outputs": [
    {
     "data": {
      "text/plain": [
       "((1406, 1), (156, 1))"
      ]
     },
     "execution_count": 7,
     "metadata": {},
     "output_type": "execute_result"
    }
   ],
   "source": [
    "train_set = train_set.reshape(tr,-1)\n",
    "test_set = test_set.reshape(te,-1)\n",
    "train_set.shape,test_set.shape"
   ]
  },
  {
   "cell_type": "code",
   "execution_count": 8,
   "id": "legitimate-consolidation",
   "metadata": {},
   "outputs": [
    {
     "data": {
      "text/plain": [
       "array([[572.],\n",
       "       [571.],\n",
       "       [580.],\n",
       "       [575.],\n",
       "       [575.],\n",
       "       [571.],\n",
       "       [573.],\n",
       "       [600.],\n",
       "       [590.],\n",
       "       [600.],\n",
       "       [598.],\n",
       "       [596.],\n",
       "       [600.],\n",
       "       [593.],\n",
       "       [599.],\n",
       "       [599.],\n",
       "       [595.],\n",
       "       [590.],\n",
       "       [590.],\n",
       "       [592.],\n",
       "       [592.],\n",
       "       [587.],\n",
       "       [600.],\n",
       "       [602.],\n",
       "       [611.],\n",
       "       [612.],\n",
       "       [606.],\n",
       "       [604.],\n",
       "       [608.],\n",
       "       [610.],\n",
       "       [610.],\n",
       "       [613.],\n",
       "       [618.],\n",
       "       [615.],\n",
       "       [612.],\n",
       "       [603.],\n",
       "       [603.],\n",
       "       [596.],\n",
       "       [593.],\n",
       "       [596.],\n",
       "       [600.],\n",
       "       [615.],\n",
       "       [608.],\n",
       "       [600.],\n",
       "       [607.],\n",
       "       [602.],\n",
       "       [608.],\n",
       "       [605.],\n",
       "       [601.],\n",
       "       [599.],\n",
       "       [600.],\n",
       "       [605.],\n",
       "       [607.],\n",
       "       [598.],\n",
       "       [597.],\n",
       "       [600.],\n",
       "       [606.],\n",
       "       [604.],\n",
       "       [606.],\n",
       "       [615.],\n",
       "       [616.],\n",
       "       [615.],\n",
       "       [631.],\n",
       "       [656.],\n",
       "       [650.],\n",
       "       [644.],\n",
       "       [634.],\n",
       "       [643.],\n",
       "       [651.],\n",
       "       [660.],\n",
       "       [661.],\n",
       "       [672.],\n",
       "       [683.],\n",
       "       [662.],\n",
       "       [654.],\n",
       "       [651.],\n",
       "       [641.],\n",
       "       [653.],\n",
       "       [641.],\n",
       "       [636.],\n",
       "       [635.],\n",
       "       [628.],\n",
       "       [633.],\n",
       "       [649.],\n",
       "       [650.],\n",
       "       [637.],\n",
       "       [633.],\n",
       "       [646.],\n",
       "       [645.],\n",
       "       [637.],\n",
       "       [632.],\n",
       "       [627.],\n",
       "       [625.],\n",
       "       [604.],\n",
       "       [604.],\n",
       "       [604.],\n",
       "       [601.],\n",
       "       [602.],\n",
       "       [595.],\n",
       "       [576.],\n",
       "       [563.],\n",
       "       [568.],\n",
       "       [587.],\n",
       "       [575.],\n",
       "       [572.],\n",
       "       [558.],\n",
       "       [558.],\n",
       "       [582.],\n",
       "       [581.],\n",
       "       [586.],\n",
       "       [583.],\n",
       "       [590.],\n",
       "       [591.],\n",
       "       [598.],\n",
       "       [584.],\n",
       "       [589.],\n",
       "       [600.],\n",
       "       [597.],\n",
       "       [589.],\n",
       "       [578.],\n",
       "       [566.],\n",
       "       [567.],\n",
       "       [558.],\n",
       "       [557.],\n",
       "       [573.],\n",
       "       [573.],\n",
       "       [562.],\n",
       "       [561.],\n",
       "       [565.],\n",
       "       [570.],\n",
       "       [565.],\n",
       "       [558.],\n",
       "       [547.],\n",
       "       [546.],\n",
       "       [526.],\n",
       "       [531.],\n",
       "       [538.],\n",
       "       [531.],\n",
       "       [534.],\n",
       "       [542.],\n",
       "       [528.],\n",
       "       [520.],\n",
       "       [518.],\n",
       "       [521.],\n",
       "       [505.],\n",
       "       [511.],\n",
       "       [520.],\n",
       "       [530.],\n",
       "       [538.],\n",
       "       [522.],\n",
       "       [530.],\n",
       "       [528.],\n",
       "       [520.],\n",
       "       [524.],\n",
       "       [514.],\n",
       "       [530.]])"
      ]
     },
     "execution_count": 8,
     "metadata": {},
     "output_type": "execute_result"
    }
   ],
   "source": [
    "test_set"
   ]
  },
  {
   "cell_type": "code",
   "execution_count": 9,
   "id": "sexual-partition",
   "metadata": {},
   "outputs": [
    {
     "data": {
      "text/plain": [
       "(array([[0.01477378],\n",
       "        [0.01200369],\n",
       "        [0.00738689],\n",
       "        ...,\n",
       "        [0.82825485],\n",
       "        [0.81717452],\n",
       "        [0.81348107]]),\n",
       " array([[0.81348107],\n",
       "        [0.81163435],\n",
       "        [0.82825485],\n",
       "        [0.81902124],\n",
       "        [0.81902124],\n",
       "        [0.81163435],\n",
       "        [0.81532779],\n",
       "        [0.86518929],\n",
       "        [0.84672207],\n",
       "        [0.86518929],\n",
       "        [0.86149584],\n",
       "        [0.8578024 ],\n",
       "        [0.86518929],\n",
       "        [0.85226223],\n",
       "        [0.86334257],\n",
       "        [0.86334257],\n",
       "        [0.85595568],\n",
       "        [0.84672207],\n",
       "        [0.84672207],\n",
       "        [0.85041551],\n",
       "        [0.85041551],\n",
       "        [0.8411819 ],\n",
       "        [0.86518929],\n",
       "        [0.86888273],\n",
       "        [0.88550323],\n",
       "        [0.88734995],\n",
       "        [0.87626962],\n",
       "        [0.87257618],\n",
       "        [0.87996307],\n",
       "        [0.88365651],\n",
       "        [0.88365651],\n",
       "        [0.88919668],\n",
       "        [0.89843029],\n",
       "        [0.89289012],\n",
       "        [0.88734995],\n",
       "        [0.87072946],\n",
       "        [0.87072946],\n",
       "        [0.8578024 ],\n",
       "        [0.85226223],\n",
       "        [0.8578024 ],\n",
       "        [0.86518929],\n",
       "        [0.89289012],\n",
       "        [0.87996307],\n",
       "        [0.86518929],\n",
       "        [0.87811634],\n",
       "        [0.86888273],\n",
       "        [0.87996307],\n",
       "        [0.8744229 ],\n",
       "        [0.86703601],\n",
       "        [0.86334257],\n",
       "        [0.86518929],\n",
       "        [0.8744229 ],\n",
       "        [0.87811634],\n",
       "        [0.86149584],\n",
       "        [0.85964912],\n",
       "        [0.86518929],\n",
       "        [0.87626962],\n",
       "        [0.87257618],\n",
       "        [0.87626962],\n",
       "        [0.89289012],\n",
       "        [0.89473684],\n",
       "        [0.89289012],\n",
       "        [0.92243767],\n",
       "        [0.96860572],\n",
       "        [0.95752539],\n",
       "        [0.94644506],\n",
       "        [0.92797784],\n",
       "        [0.94459834],\n",
       "        [0.95937211],\n",
       "        [0.97599261],\n",
       "        [0.97783934],\n",
       "        [0.99815328],\n",
       "        [1.01846722],\n",
       "        [0.97968606],\n",
       "        [0.96491228],\n",
       "        [0.95937211],\n",
       "        [0.94090489],\n",
       "        [0.96306556],\n",
       "        [0.94090489],\n",
       "        [0.93167128],\n",
       "        [0.92982456],\n",
       "        [0.91689751],\n",
       "        [0.92613112],\n",
       "        [0.95567867],\n",
       "        [0.95752539],\n",
       "        [0.93351801],\n",
       "        [0.92613112],\n",
       "        [0.9501385 ],\n",
       "        [0.94829178],\n",
       "        [0.93351801],\n",
       "        [0.9242844 ],\n",
       "        [0.91505078],\n",
       "        [0.91135734],\n",
       "        [0.87257618],\n",
       "        [0.87257618],\n",
       "        [0.87257618],\n",
       "        [0.86703601],\n",
       "        [0.86888273],\n",
       "        [0.85595568],\n",
       "        [0.82086796],\n",
       "        [0.79686057],\n",
       "        [0.80609418],\n",
       "        [0.8411819 ],\n",
       "        [0.81902124],\n",
       "        [0.81348107],\n",
       "        [0.78762696],\n",
       "        [0.78762696],\n",
       "        [0.83194829],\n",
       "        [0.83010157],\n",
       "        [0.83933518],\n",
       "        [0.83379501],\n",
       "        [0.84672207],\n",
       "        [0.84856879],\n",
       "        [0.86149584],\n",
       "        [0.83564174],\n",
       "        [0.84487535],\n",
       "        [0.86518929],\n",
       "        [0.85964912],\n",
       "        [0.84487535],\n",
       "        [0.8245614 ],\n",
       "        [0.80240074],\n",
       "        [0.80424746],\n",
       "        [0.78762696],\n",
       "        [0.78578024],\n",
       "        [0.81532779],\n",
       "        [0.81532779],\n",
       "        [0.79501385],\n",
       "        [0.79316713],\n",
       "        [0.80055402],\n",
       "        [0.80978763],\n",
       "        [0.80055402],\n",
       "        [0.78762696],\n",
       "        [0.76731302],\n",
       "        [0.7654663 ],\n",
       "        [0.72853186],\n",
       "        [0.73776547],\n",
       "        [0.75069252],\n",
       "        [0.73776547],\n",
       "        [0.74330563],\n",
       "        [0.75807941],\n",
       "        [0.7322253 ],\n",
       "        [0.71745152],\n",
       "        [0.71375808],\n",
       "        [0.71929825],\n",
       "        [0.68975069],\n",
       "        [0.70083102],\n",
       "        [0.71745152],\n",
       "        [0.73591874],\n",
       "        [0.75069252],\n",
       "        [0.72114497],\n",
       "        [0.73591874],\n",
       "        [0.7322253 ],\n",
       "        [0.71745152],\n",
       "        [0.72483841],\n",
       "        [0.70637119],\n",
       "        [0.73591874]]))"
      ]
     },
     "execution_count": 9,
     "metadata": {},
     "output_type": "execute_result"
    }
   ],
   "source": [
    "sc = MinMaxScaler(feature_range=(0, 1)) \n",
    "train_scaled = sc.fit_transform(train_set) \n",
    "test_scaled = sc.transform(test_set)\n",
    "train_scaled,test_scaled"
   ]
  },
  {
   "cell_type": "code",
   "execution_count": 10,
   "id": "occasional-situation",
   "metadata": {},
   "outputs": [],
   "source": [
    "x_train = []\n",
    "y_train = []\n",
    "x_test = []\n",
    "y_test = []"
   ]
  },
  {
   "cell_type": "code",
   "execution_count": 11,
   "id": "tired-clone",
   "metadata": {},
   "outputs": [],
   "source": [
    "for i in range(day, len(train_scaled)):\n",
    "    x_train.append(train_scaled[i - day:i, 0])\n",
    "    y_train.append(train_scaled[i, 0])"
   ]
  },
  {
   "cell_type": "code",
   "execution_count": 12,
   "id": "innocent-release",
   "metadata": {},
   "outputs": [
    {
     "data": {
      "text/plain": [
       "(array([0.01939058, 0.02308403, 0.02031394, 0.02677747, 0.02493075,\n",
       "        0.02954755, 0.03047091, 0.03601108, 0.03601108, 0.03601108]),\n",
       " 0.033240997229916885)"
      ]
     },
     "execution_count": 12,
     "metadata": {},
     "output_type": "execute_result"
    }
   ],
   "source": [
    "x_train[20],y_train[20]"
   ]
  },
  {
   "cell_type": "code",
   "execution_count": 13,
   "id": "funky-genre",
   "metadata": {},
   "outputs": [],
   "source": [
    "np.random.seed(5)\n",
    "np.random.shuffle(x_train)\n",
    "np.random.seed(5)\n",
    "np.random.shuffle(y_train)\n",
    "tf.random.set_random_seed(5)"
   ]
  },
  {
   "cell_type": "code",
   "execution_count": 14,
   "id": "revolutionary-finish",
   "metadata": {},
   "outputs": [
    {
     "data": {
      "text/plain": [
       "(array([0.33148661, 0.3388735 , 0.33610342, 0.33148661, 0.32779317,\n",
       "        0.32409972, 0.32409972, 0.33148661, 0.32871653, 0.32040628]),\n",
       " 0.3250230840258541)"
      ]
     },
     "execution_count": 14,
     "metadata": {},
     "output_type": "execute_result"
    }
   ],
   "source": [
    "x_train[20],y_train[20]"
   ]
  },
  {
   "cell_type": "code",
   "execution_count": 15,
   "id": "varying-sector",
   "metadata": {},
   "outputs": [],
   "source": [
    "#len(x_train),x_test[0]"
   ]
  },
  {
   "cell_type": "code",
   "execution_count": 16,
   "id": "revolutionary-titanium",
   "metadata": {},
   "outputs": [],
   "source": [
    "x_train = np.array(x_train)\n",
    "y_train = np.array(y_train)"
   ]
  },
  {
   "cell_type": "code",
   "execution_count": 17,
   "id": "better-diana",
   "metadata": {},
   "outputs": [],
   "source": [
    "for i in range(day, len(test_set)):\n",
    "    x_test.append(test_scaled[i - day:i, 0])\n",
    "    y_test.append(test_scaled[i, 0])"
   ]
  },
  {
   "cell_type": "code",
   "execution_count": 18,
   "id": "collected-plumbing",
   "metadata": {},
   "outputs": [
    {
     "data": {
      "text/plain": [
       "(array([0.85041551, 0.8411819 , 0.86518929, 0.86888273, 0.88550323,\n",
       "        0.88734995, 0.87626962, 0.87257618, 0.87996307, 0.88365651]),\n",
       " 0.8836565096952907)"
      ]
     },
     "execution_count": 18,
     "metadata": {},
     "output_type": "execute_result"
    }
   ],
   "source": [
    "x_test[20],y_test[20]"
   ]
  },
  {
   "cell_type": "code",
   "execution_count": 19,
   "id": "taken-carrier",
   "metadata": {},
   "outputs": [],
   "source": [
    "x_test = np.array(x_test)\n",
    "y_test = np.array(y_test)"
   ]
  },
  {
   "cell_type": "code",
   "execution_count": 20,
   "id": "certain-sister",
   "metadata": {},
   "outputs": [],
   "source": [
    "x_train = np.reshape(x_train, (x_train.shape[0],day,1))\n",
    "x_test = np.reshape(x_test, (x_test.shape[0],day,1))\n",
    "#x_train = sequence.pad_sequences(x_train, maxlen=5)\n",
    "#x_test = sequence.pad_sequences(x_test, maxlen=5)"
   ]
  },
  {
   "cell_type": "code",
   "execution_count": 21,
   "id": "proprietary-weather",
   "metadata": {},
   "outputs": [
    {
     "data": {
      "text/plain": [
       "((1396, 10, 1), (146, 10, 1))"
      ]
     },
     "execution_count": 21,
     "metadata": {},
     "output_type": "execute_result"
    }
   ],
   "source": [
    "x_train.shape,x_test.shape"
   ]
  },
  {
   "cell_type": "code",
   "execution_count": 22,
   "id": "southwest-paradise",
   "metadata": {},
   "outputs": [
    {
     "name": "stdout",
     "output_type": "stream",
     "text": [
      "WARNING:tensorflow:From c:\\users\\watso\\appdata\\local\\programs\\python\\python36\\lib\\site-packages\\tensorflow\\python\\ops\\resource_variable_ops.py:435: colocate_with (from tensorflow.python.framework.ops) is deprecated and will be removed in a future version.\n",
      "Instructions for updating:\n",
      "Colocations handled automatically by placer.\n"
     ]
    }
   ],
   "source": [
    "model = Sequential()\n",
    "model.add(LSTM(units=100,return_sequences=True,input_shape = (x_train.shape[1], 1)))\n",
    "model.add(Dropout(0.2))\n",
    "model.add(LSTM(units = 80,activation='relu'))\n",
    "model.add(Dense(1, activation='sigmoid'))\n"
   ]
  },
  {
   "cell_type": "code",
   "execution_count": 23,
   "id": "cutting-planning",
   "metadata": {},
   "outputs": [
    {
     "name": "stdout",
     "output_type": "stream",
     "text": [
      "Model: \"sequential_1\"\n",
      "_________________________________________________________________\n",
      "Layer (type)                 Output Shape              Param #   \n",
      "=================================================================\n",
      "lstm_1 (LSTM)                (None, 10, 100)           40800     \n",
      "_________________________________________________________________\n",
      "dropout_1 (Dropout)          (None, 10, 100)           0         \n",
      "_________________________________________________________________\n",
      "lstm_2 (LSTM)                (None, 80)                57920     \n",
      "_________________________________________________________________\n",
      "dense_1 (Dense)              (None, 1)                 81        \n",
      "=================================================================\n",
      "Total params: 98,801\n",
      "Trainable params: 98,801\n",
      "Non-trainable params: 0\n",
      "_________________________________________________________________\n",
      "WARNING:tensorflow:From c:\\users\\watso\\appdata\\local\\programs\\python\\python36\\lib\\site-packages\\tensorflow\\python\\ops\\math_ops.py:3066: to_int32 (from tensorflow.python.ops.math_ops) is deprecated and will be removed in a future version.\n",
      "Instructions for updating:\n",
      "Use tf.cast instead.\n",
      "Epoch 1/100\n",
      "1396/1396 [==============================] - 1s 814us/step - loss: 0.0401 - accuracy: 7.1633e-04\n",
      "Epoch 2/100\n",
      "1396/1396 [==============================] - 1s 372us/step - loss: 0.0014 - accuracy: 7.1633e-04\n",
      "Epoch 3/100\n",
      "1396/1396 [==============================] - 1s 369us/step - loss: 0.0010 - accuracy: 7.1633e-04\n",
      "Epoch 4/100\n",
      "1396/1396 [==============================] - 1s 380us/step - loss: 8.0849e-04 - accuracy: 7.1633e-04\n",
      "Epoch 5/100\n",
      "1396/1396 [==============================] - 1s 373us/step - loss: 7.8559e-04 - accuracy: 7.1633e-04\n",
      "Epoch 6/100\n",
      "1396/1396 [==============================] - 1s 377us/step - loss: 8.8231e-04 - accuracy: 7.1633e-04\n",
      "Epoch 7/100\n",
      "1396/1396 [==============================] - 1s 368us/step - loss: 6.0989e-04 - accuracy: 7.1633e-04\n",
      "Epoch 8/100\n",
      "1396/1396 [==============================] - 1s 379us/step - loss: 5.7914e-04 - accuracy: 7.1633e-04\n",
      "Epoch 9/100\n",
      "1396/1396 [==============================] - 1s 372us/step - loss: 5.5943e-04 - accuracy: 7.1633e-04\n",
      "Epoch 10/100\n",
      "1396/1396 [==============================] - 1s 379us/step - loss: 5.5842e-04 - accuracy: 7.1633e-04\n",
      "Epoch 11/100\n",
      "1396/1396 [==============================] - 1s 376us/step - loss: 5.6003e-04 - accuracy: 7.1633e-04\n",
      "Epoch 12/100\n",
      "1396/1396 [==============================] - 1s 377us/step - loss: 5.5826e-04 - accuracy: 7.1633e-04\n",
      "Epoch 13/100\n",
      "1396/1396 [==============================] - 1s 379us/step - loss: 6.1204e-04 - accuracy: 7.1633e-04\n",
      "Epoch 14/100\n",
      "1396/1396 [==============================] - 1s 383us/step - loss: 5.3843e-04 - accuracy: 7.1633e-04\n",
      "Epoch 15/100\n",
      "1396/1396 [==============================] - 1s 383us/step - loss: 5.3069e-04 - accuracy: 7.1633e-04\n",
      "Epoch 16/100\n",
      "1396/1396 [==============================] - 1s 378us/step - loss: 5.6379e-04 - accuracy: 7.1633e-04\n",
      "Epoch 17/100\n",
      "1396/1396 [==============================] - 1s 387us/step - loss: 6.1118e-04 - accuracy: 7.1633e-04\n",
      "Epoch 18/100\n",
      "1396/1396 [==============================] - 1s 386us/step - loss: 4.8513e-04 - accuracy: 7.1633e-04\n",
      "Epoch 19/100\n",
      "1396/1396 [==============================] - 1s 379us/step - loss: 5.1784e-04 - accuracy: 7.1633e-04\n",
      "Epoch 20/100\n",
      "1396/1396 [==============================] - 1s 384us/step - loss: 5.1152e-04 - accuracy: 7.1633e-04\n",
      "Epoch 21/100\n",
      "1396/1396 [==============================] - 1s 388us/step - loss: 5.3625e-04 - accuracy: 7.1633e-04 loss: 5.3791e-04 - accuracy: 9.19\n",
      "Epoch 22/100\n",
      "1396/1396 [==============================] - 1s 388us/step - loss: 4.6442e-04 - accuracy: 7.1633e-04\n",
      "Epoch 23/100\n",
      "1396/1396 [==============================] - 1s 387us/step - loss: 4.7316e-04 - accuracy: 7.1633e-04\n",
      "Epoch 24/100\n",
      "1396/1396 [==============================] - 1s 382us/step - loss: 4.6988e-04 - accuracy: 7.1633e-04\n",
      "Epoch 25/100\n",
      "1396/1396 [==============================] - 1s 392us/step - loss: 4.9036e-04 - accuracy: 7.1633e-04\n",
      "Epoch 26/100\n",
      "1396/1396 [==============================] - 1s 386us/step - loss: 5.5868e-04 - accuracy: 7.1633e-04\n",
      "Epoch 27/100\n",
      "1396/1396 [==============================] - 1s 389us/step - loss: 5.7338e-04 - accuracy: 7.1633e-04\n",
      "Epoch 28/100\n",
      "1396/1396 [==============================] - 1s 386us/step - loss: 4.5532e-04 - accuracy: 7.1633e-04\n",
      "Epoch 29/100\n",
      "1396/1396 [==============================] - 1s 389us/step - loss: 5.1320e-04 - accuracy: 7.1633e-04\n",
      "Epoch 30/100\n",
      "1396/1396 [==============================] - 1s 383us/step - loss: 5.4924e-04 - accuracy: 7.1633e-04\n",
      "Epoch 31/100\n",
      "1396/1396 [==============================] - 1s 383us/step - loss: 4.8950e-04 - accuracy: 7.1633e-04\n",
      "Epoch 32/100\n",
      "1396/1396 [==============================] - 1s 389us/step - loss: 4.5591e-04 - accuracy: 7.1633e-04\n",
      "Epoch 33/100\n",
      "1396/1396 [==============================] - 1s 409us/step - loss: 5.1788e-04 - accuracy: 7.1633e-04\n",
      "Epoch 34/100\n",
      "1396/1396 [==============================] - 1s 389us/step - loss: 4.6375e-04 - accuracy: 7.1633e-04\n",
      "Epoch 35/100\n",
      "1396/1396 [==============================] - 1s 382us/step - loss: 4.3001e-04 - accuracy: 7.1633e-04\n",
      "Epoch 36/100\n",
      "1396/1396 [==============================] - 1s 388us/step - loss: 4.5612e-04 - accuracy: 7.1633e-04\n",
      "Epoch 37/100\n",
      "1396/1396 [==============================] - 1s 382us/step - loss: 4.2835e-04 - accuracy: 7.1633e-04\n",
      "Epoch 38/100\n",
      "1396/1396 [==============================] - 1s 385us/step - loss: 4.2791e-04 - accuracy: 7.1633e-040s - loss: 4.2365e-04 - accuracy: 8.0128\n",
      "Epoch 39/100\n",
      "1396/1396 [==============================] - 1s 387us/step - loss: 4.2740e-04 - accuracy: 7.1633e-04\n",
      "Epoch 40/100\n",
      "1396/1396 [==============================] - 1s 384us/step - loss: 4.3883e-04 - accuracy: 7.1633e-04\n",
      "Epoch 41/100\n",
      "1396/1396 [==============================] - 1s 381us/step - loss: 4.0234e-04 - accuracy: 7.1633e-04\n",
      "Epoch 42/100\n",
      "1396/1396 [==============================] - 1s 392us/step - loss: 4.0118e-04 - accuracy: 7.1633e-04\n",
      "Epoch 43/100\n",
      "1396/1396 [==============================] - 1s 384us/step - loss: 4.1034e-04 - accuracy: 7.1633e-04\n",
      "Epoch 44/100\n",
      "1396/1396 [==============================] - 1s 391us/step - loss: 3.9929e-04 - accuracy: 7.1633e-04\n",
      "Epoch 45/100\n",
      "1396/1396 [==============================] - 1s 392us/step - loss: 3.8161e-04 - accuracy: 7.1633e-04\n",
      "Epoch 46/100\n",
      "1396/1396 [==============================] - 1s 397us/step - loss: 4.6093e-04 - accuracy: 7.1633e-04\n",
      "Epoch 47/100\n",
      "1396/1396 [==============================] - 1s 398us/step - loss: 4.0644e-04 - accuracy: 7.1633e-04\n",
      "Epoch 48/100\n",
      "1396/1396 [==============================] - 1s 390us/step - loss: 3.9468e-04 - accuracy: 7.1633e-04\n",
      "Epoch 49/100\n",
      "1396/1396 [==============================] - 1s 399us/step - loss: 3.7864e-04 - accuracy: 7.1633e-04\n",
      "Epoch 50/100\n",
      "1396/1396 [==============================] - 1s 394us/step - loss: 3.6516e-04 - accuracy: 7.1633e-04\n",
      "Epoch 51/100\n",
      "1396/1396 [==============================] - 1s 400us/step - loss: 3.9638e-04 - accuracy: 7.1633e-04\n",
      "Epoch 52/100\n",
      "1396/1396 [==============================] - 1s 388us/step - loss: 3.8727e-04 - accuracy: 7.1633e-04\n",
      "Epoch 53/100\n",
      "1396/1396 [==============================] - 1s 393us/step - loss: 3.8047e-04 - accuracy: 7.1633e-04\n",
      "Epoch 54/100\n",
      "1396/1396 [==============================] - 1s 394us/step - loss: 3.5788e-04 - accuracy: 7.1633e-04\n",
      "Epoch 55/100\n",
      "1396/1396 [==============================] - 1s 394us/step - loss: 3.9707e-04 - accuracy: 7.1633e-04\n",
      "Epoch 56/100\n",
      "1396/1396 [==============================] - 1s 387us/step - loss: 3.3376e-04 - accuracy: 7.1633e-04\n",
      "Epoch 57/100\n",
      "1396/1396 [==============================] - 1s 389us/step - loss: 3.6730e-04 - accuracy: 7.1633e-04\n",
      "Epoch 58/100\n",
      "1396/1396 [==============================] - 1s 394us/step - loss: 3.4298e-04 - accuracy: 7.1633e-04\n",
      "Epoch 59/100\n",
      "1396/1396 [==============================] - 1s 386us/step - loss: 3.6073e-04 - accuracy: 7.1633e-04\n",
      "Epoch 60/100\n",
      "1396/1396 [==============================] - 1s 389us/step - loss: 3.2928e-04 - accuracy: 7.1633e-04\n",
      "Epoch 61/100\n",
      "1396/1396 [==============================] - 1s 389us/step - loss: 2.9274e-04 - accuracy: 7.1633e-04\n",
      "Epoch 62/100\n"
     ]
    },
    {
     "name": "stdout",
     "output_type": "stream",
     "text": [
      "1396/1396 [==============================] - 1s 388us/step - loss: 3.5329e-04 - accuracy: 7.1633e-04\n",
      "Epoch 63/100\n",
      "1396/1396 [==============================] - 1s 381us/step - loss: 3.2774e-04 - accuracy: 7.1633e-04\n",
      "Epoch 64/100\n",
      "1396/1396 [==============================] - 1s 384us/step - loss: 3.3372e-04 - accuracy: 7.1633e-04\n",
      "Epoch 65/100\n",
      "1396/1396 [==============================] - 1s 379us/step - loss: 3.5686e-04 - accuracy: 7.1633e-04\n",
      "Epoch 66/100\n",
      "1396/1396 [==============================] - 1s 379us/step - loss: 2.9736e-04 - accuracy: 7.1633e-04\n",
      "Epoch 67/100\n",
      "1396/1396 [==============================] - 1s 379us/step - loss: 2.9322e-04 - accuracy: 7.1633e-040s - loss: 2.8433e-04 - accuracy: 0.\n",
      "Epoch 68/100\n",
      "1396/1396 [==============================] - 1s 382us/step - loss: 2.8378e-04 - accuracy: 7.1633e-04\n",
      "Epoch 69/100\n",
      "1396/1396 [==============================] - 1s 376us/step - loss: 3.0259e-04 - accuracy: 7.1633e-04\n",
      "Epoch 70/100\n",
      "1396/1396 [==============================] - 1s 382us/step - loss: 2.8333e-04 - accuracy: 7.1633e-04\n",
      "Epoch 71/100\n",
      "1396/1396 [==============================] - 1s 377us/step - loss: 2.9810e-04 - accuracy: 7.1633e-04\n",
      "Epoch 72/100\n",
      "1396/1396 [==============================] - 1s 378us/step - loss: 3.0166e-04 - accuracy: 7.1633e-04\n",
      "Epoch 73/100\n",
      "1396/1396 [==============================] - 1s 379us/step - loss: 3.4995e-04 - accuracy: 7.1633e-04\n",
      "Epoch 74/100\n",
      "1396/1396 [==============================] - 1s 377us/step - loss: 3.0087e-04 - accuracy: 7.1633e-04\n",
      "Epoch 75/100\n",
      "1396/1396 [==============================] - 1s 380us/step - loss: 3.2791e-04 - accuracy: 7.1633e-04\n",
      "Epoch 76/100\n",
      "1396/1396 [==============================] - 1s 379us/step - loss: 3.2981e-04 - accuracy: 7.1633e-04\n",
      "Epoch 77/100\n",
      "1396/1396 [==============================] - 1s 381us/step - loss: 3.0031e-04 - accuracy: 7.1633e-04\n",
      "Epoch 78/100\n",
      "1396/1396 [==============================] - 1s 382us/step - loss: 2.4134e-04 - accuracy: 7.1633e-04\n",
      "Epoch 79/100\n",
      "1396/1396 [==============================] - 1s 384us/step - loss: 2.5691e-04 - accuracy: 7.1633e-04 loss: 2.8283e-04 - accuracy\n",
      "Epoch 80/100\n",
      "1396/1396 [==============================] - 1s 375us/step - loss: 2.8222e-04 - accuracy: 7.1633e-04\n",
      "Epoch 81/100\n",
      "1396/1396 [==============================] - 1s 382us/step - loss: 2.6314e-04 - accuracy: 7.1633e-04\n",
      "Epoch 82/100\n",
      "1396/1396 [==============================] - 1s 384us/step - loss: 2.8767e-04 - accuracy: 7.1633e-040s - loss: 2.8263e-04 - accuracy: 0.00\n",
      "Epoch 83/100\n",
      "1396/1396 [==============================] - 1s 381us/step - loss: 2.7311e-04 - accuracy: 7.1633e-04\n",
      "Epoch 84/100\n",
      "1396/1396 [==============================] - 1s 378us/step - loss: 2.7734e-04 - accuracy: 7.1633e-04\n",
      "Epoch 85/100\n",
      "1396/1396 [==============================] - 1s 380us/step - loss: 3.2929e-04 - accuracy: 7.1633e-04\n",
      "Epoch 86/100\n",
      "1396/1396 [==============================] - 1s 379us/step - loss: 2.7779e-04 - accuracy: 7.1633e-04\n",
      "Epoch 87/100\n",
      "1396/1396 [==============================] - 1s 384us/step - loss: 2.3729e-04 - accuracy: 7.1633e-04\n",
      "Epoch 88/100\n",
      "1396/1396 [==============================] - 1s 384us/step - loss: 3.0376e-04 - accuracy: 7.1633e-04\n",
      "Epoch 89/100\n",
      "1396/1396 [==============================] - 1s 379us/step - loss: 2.6931e-04 - accuracy: 7.1633e-04\n",
      "Epoch 90/100\n",
      "1396/1396 [==============================] - 1s 378us/step - loss: 2.4753e-04 - accuracy: 7.1633e-04\n",
      "Epoch 91/100\n",
      "1396/1396 [==============================] - 1s 375us/step - loss: 2.6048e-04 - accuracy: 7.1633e-04\n",
      "Epoch 92/100\n",
      "1396/1396 [==============================] - 1s 383us/step - loss: 2.7798e-04 - accuracy: 7.1633e-04\n",
      "Epoch 93/100\n",
      "1396/1396 [==============================] - 1s 380us/step - loss: 2.4986e-04 - accuracy: 7.1633e-04\n",
      "Epoch 94/100\n",
      "1396/1396 [==============================] - 1s 378us/step - loss: 2.5812e-04 - accuracy: 7.1633e-04\n",
      "Epoch 95/100\n",
      "1396/1396 [==============================] - 1s 379us/step - loss: 2.5122e-04 - accuracy: 7.1633e-04\n",
      "Epoch 96/100\n",
      "1396/1396 [==============================] - 1s 377us/step - loss: 2.5696e-04 - accuracy: 7.1633e-04\n",
      "Epoch 97/100\n",
      "1396/1396 [==============================] - 1s 376us/step - loss: 2.3107e-04 - accuracy: 7.1633e-04\n",
      "Epoch 98/100\n",
      "1396/1396 [==============================] - 1s 407us/step - loss: 2.3395e-04 - accuracy: 7.1633e-04\n",
      "Epoch 99/100\n",
      "1396/1396 [==============================] - 1s 378us/step - loss: 2.4755e-04 - accuracy: 7.1633e-04\n",
      "Epoch 100/100\n",
      "1396/1396 [==============================] - 1s 381us/step - loss: 2.7662e-04 - accuracy: 7.1633e-04\n"
     ]
    },
    {
     "data": {
      "text/plain": [
       "<keras.callbacks.callbacks.History at 0x265c362f390>"
      ]
     },
     "execution_count": 23,
     "metadata": {},
     "output_type": "execute_result"
    }
   ],
   "source": [
    "model.compile(loss='mean_squared_error',optimizer='adam',metrics=['accuracy'])\n",
    "model.summary()\n",
    "model.fit(x_train,y_train,batch_size=32,epochs=100)"
   ]
  },
  {
   "cell_type": "code",
   "execution_count": 24,
   "id": "dangerous-cocktail",
   "metadata": {},
   "outputs": [],
   "source": [
    "predict_stock = model.predict(x_test)\n",
    "predict_stock = sc.inverse_transform(predict_stock)"
   ]
  },
  {
   "cell_type": "code",
   "execution_count": 25,
   "id": "surrounded-equation",
   "metadata": {},
   "outputs": [
    {
     "data": {
      "text/plain": [
       "numpy.ndarray"
      ]
     },
     "execution_count": 25,
     "metadata": {},
     "output_type": "execute_result"
    }
   ],
   "source": [
    "type(predict_stock)"
   ]
  },
  {
   "cell_type": "code",
   "execution_count": 26,
   "id": "eligible-disclaimer",
   "metadata": {},
   "outputs": [
    {
     "data": {
      "text/plain": [
       "(146, 1)"
      ]
     },
     "execution_count": 26,
     "metadata": {},
     "output_type": "execute_result"
    }
   ],
   "source": [
    "test_set[0:te-day].shape"
   ]
  },
  {
   "cell_type": "code",
   "execution_count": 27,
   "id": "cultural-transsexual",
   "metadata": {},
   "outputs": [
    {
     "data": {
      "image/png": "[encoded data removed]",
      "text/plain": [
       "<Figure size 432x288 with 1 Axes>"
      ]
     },
     "metadata": {
      "needs_background": "light"
     },
     "output_type": "display_data"
    }
   ],
   "source": [
    "plt.plot(test_set[day:te], color = 'blue', label = 'Real')\n",
    "plt.plot(predict_stock, color = 'green', label = 'Predicted')\n",
    "plt.title('Stock Price')\n",
    "plt.xlabel('Time')\n",
    "plt.ylabel('Stock Price')\n",
    "plt.legend()\n",
    "plt.show()"
   ]
  },
  {
   "cell_type": "code",
   "execution_count": 28,
   "id": "legitimate-belly",
   "metadata": {},
   "outputs": [],
   "source": [
    "model.save('stock_5.h')"
   ]
  },
  {
   "cell_type": "code",
   "execution_count": null,
   "id": "alpine-duration",
   "metadata": {},
   "outputs": [],
   "source": []
  }
 ],
 "metadata": {
  "kernelspec": {
   "display_name": "Python 3",
   "language": "python",
   "name": "python3"
  },
  "language_info": {
   "codemirror_mode": {
    "name": "ipython",
    "version": 3
   },
   "file_extension": ".py",
   "mimetype": "text/x-python",
   "name": "python",
   "nbconvert_exporter": "python",
   "pygments_lexer": "ipython3",
   "version": "3.6.8"
  }
 },
 "nbformat": 4,
 "nbformat_minor": 5
}
