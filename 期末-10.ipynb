{
 "cells": [
  {
   "cell_type": "code",
   "execution_count": 1,
   "id": "careful-riding",
   "metadata": {},
   "outputs": [
    {
     "name": "stdout",
     "output_type": "stream",
     "text": [
      "env: KERAS_BACKEND=tensorflow\n"
     ]
    }
   ],
   "source": [
    "%env KERAS_BACKEND=tensorflow"
   ]
  },
  {
   "cell_type": "code",
   "execution_count": 2,
   "id": "cleared-surgery",
   "metadata": {},
   "outputs": [
    {
     "name": "stderr",
     "output_type": "stream",
     "text": [
      "c:\\users\\watso\\appdata\\local\\programs\\python\\python36\\lib\\site-packages\\tensorflow\\python\\framework\\dtypes.py:526: FutureWarning: Passing (type, 1) or '1type' as a synonym of type is deprecated; in a future version of numpy, it will be understood as (type, (1,)) / '(1,)type'.\n",
      "  _np_qint8 = np.dtype([(\"qint8\", np.int8, 1)])\n",
      "c:\\users\\watso\\appdata\\local\\programs\\python\\python36\\lib\\site-packages\\tensorflow\\python\\framework\\dtypes.py:527: FutureWarning: Passing (type, 1) or '1type' as a synonym of type is deprecated; in a future version of numpy, it will be understood as (type, (1,)) / '(1,)type'.\n",
      "  _np_quint8 = np.dtype([(\"quint8\", np.uint8, 1)])\n",
      "c:\\users\\watso\\appdata\\local\\programs\\python\\python36\\lib\\site-packages\\tensorflow\\python\\framework\\dtypes.py:528: FutureWarning: Passing (type, 1) or '1type' as a synonym of type is deprecated; in a future version of numpy, it will be understood as (type, (1,)) / '(1,)type'.\n",
      "  _np_qint16 = np.dtype([(\"qint16\", np.int16, 1)])\n",
      "c:\\users\\watso\\appdata\\local\\programs\\python\\python36\\lib\\site-packages\\tensorflow\\python\\framework\\dtypes.py:529: FutureWarning: Passing (type, 1) or '1type' as a synonym of type is deprecated; in a future version of numpy, it will be understood as (type, (1,)) / '(1,)type'.\n",
      "  _np_quint16 = np.dtype([(\"quint16\", np.uint16, 1)])\n",
      "c:\\users\\watso\\appdata\\local\\programs\\python\\python36\\lib\\site-packages\\tensorflow\\python\\framework\\dtypes.py:530: FutureWarning: Passing (type, 1) or '1type' as a synonym of type is deprecated; in a future version of numpy, it will be understood as (type, (1,)) / '(1,)type'.\n",
      "  _np_qint32 = np.dtype([(\"qint32\", np.int32, 1)])\n",
      "c:\\users\\watso\\appdata\\local\\programs\\python\\python36\\lib\\site-packages\\tensorflow\\python\\framework\\dtypes.py:535: FutureWarning: Passing (type, 1) or '1type' as a synonym of type is deprecated; in a future version of numpy, it will be understood as (type, (1,)) / '(1,)type'.\n",
      "  np_resource = np.dtype([(\"resource\", np.ubyte, 1)])\n",
      "Using TensorFlow backend.\n"
     ]
    }
   ],
   "source": [
    "%matplotlib inline\n",
    "import numpy as np\n",
    "import tensorflow as tf\n",
    "import pandas as pd\n",
    "import matplotlib.pyplot as plt\n",
    "from keras.preprocessing import sequence\n",
    "from keras.models import Sequential\n",
    "from keras.layers import Dense, Embedding\n",
    "from keras.layers import LSTM\n",
    "import seaborn as sns\n",
    "from sklearn.metrics import confusion_matrix\n",
    "from sklearn.metrics import classification_report\n",
    "import matplotlib.pyplot as plt\n",
    "from sklearn.preprocessing import MinMaxScaler\n",
    "from keras.layers import Dropout\n",
    "\n",
    "tr = 2394\n",
    "te = 156\n",
    "day = 10"
   ]
  },
  {
   "cell_type": "code",
   "execution_count": 3,
   "id": "loose-palace",
   "metadata": {},
   "outputs": [
    {
     "data": {
      "text/html": [
       "<div>\n",
       "<style scoped>\n",
       "    .dataframe tbody tr th:only-of-type {\n",
       "        vertical-align: middle;\n",
       "    }\n",
       "\n",
       "    .dataframe tbody tr th {\n",
       "        vertical-align: top;\n",
       "    }\n",
       "\n",
       "    .dataframe thead th {\n",
       "        text-align: right;\n",
       "    }\n",
       "</style>\n",
       "<table border=\"1\" class=\"dataframe\">\n",
       "  <thead>\n",
       "    <tr style=\"text-align: right;\">\n",
       "      <th></th>\n",
       "      <th>date</th>\n",
       "      <th>Closing price</th>\n",
       "    </tr>\n",
       "  </thead>\n",
       "  <tbody>\n",
       "    <tr>\n",
       "      <th>0</th>\n",
       "      <td>2012/01/02</td>\n",
       "      <td>75.0</td>\n",
       "    </tr>\n",
       "    <tr>\n",
       "      <th>1</th>\n",
       "      <td>2012/01/03</td>\n",
       "      <td>75.7</td>\n",
       "    </tr>\n",
       "    <tr>\n",
       "      <th>2</th>\n",
       "      <td>2012/01/04</td>\n",
       "      <td>75.8</td>\n",
       "    </tr>\n",
       "    <tr>\n",
       "      <th>3</th>\n",
       "      <td>2012/01/05</td>\n",
       "      <td>76.0</td>\n",
       "    </tr>\n",
       "    <tr>\n",
       "      <th>4</th>\n",
       "      <td>2012/01/06</td>\n",
       "      <td>75.6</td>\n",
       "    </tr>\n",
       "    <tr>\n",
       "      <th>...</th>\n",
       "      <td>...</td>\n",
       "      <td>...</td>\n",
       "    </tr>\n",
       "    <tr>\n",
       "      <th>2549</th>\n",
       "      <td>2022/05/27</td>\n",
       "      <td>530.0</td>\n",
       "    </tr>\n",
       "    <tr>\n",
       "      <th>2550</th>\n",
       "      <td>2022/05/30</td>\n",
       "      <td>547.0</td>\n",
       "    </tr>\n",
       "    <tr>\n",
       "      <th>2551</th>\n",
       "      <td>2022/05/31</td>\n",
       "      <td>560.0</td>\n",
       "    </tr>\n",
       "    <tr>\n",
       "      <th>2552</th>\n",
       "      <td>2022/06/01</td>\n",
       "      <td>549.0</td>\n",
       "    </tr>\n",
       "    <tr>\n",
       "      <th>2553</th>\n",
       "      <td>2022/06/02</td>\n",
       "      <td>540.0</td>\n",
       "    </tr>\n",
       "  </tbody>\n",
       "</table>\n",
       "<p>2554 rows × 2 columns</p>\n",
       "</div>"
      ],
      "text/plain": [
       "            date  Closing price\n",
       "0     2012/01/02           75.0\n",
       "1     2012/01/03           75.7\n",
       "2     2012/01/04           75.8\n",
       "3     2012/01/05           76.0\n",
       "4     2012/01/06           75.6\n",
       "...          ...            ...\n",
       "2549  2022/05/27          530.0\n",
       "2550  2022/05/30          547.0\n",
       "2551  2022/05/31          560.0\n",
       "2552  2022/06/01          549.0\n",
       "2553  2022/06/02          540.0\n",
       "\n",
       "[2554 rows x 2 columns]"
      ]
     },
     "execution_count": 3,
     "metadata": {},
     "output_type": "execute_result"
    }
   ],
   "source": [
    "df = pd.read_csv(\"stock100_111.csv\")\n",
    "df"
   ]
  },
  {
   "cell_type": "code",
   "execution_count": 4,
   "id": "framed-vampire",
   "metadata": {},
   "outputs": [
    {
     "data": {
      "text/plain": [
       "(0        75.0\n",
       " 1        75.7\n",
       " 2        75.8\n",
       " 3        76.0\n",
       " 4        75.6\n",
       "         ...  \n",
       " 2389    594.0\n",
       " 2390    580.0\n",
       " 2391    580.0\n",
       " 2392    574.0\n",
       " 2393    572.0\n",
       " Name: Closing price, Length: 2394, dtype: float64,\n",
       " (2394,))"
      ]
     },
     "execution_count": 4,
     "metadata": {},
     "output_type": "execute_result"
    }
   ],
   "source": [
    "train = df['Closing price']\n",
    "train = train.iloc[0:tr]\n",
    "train,train.shape"
   ]
  },
  {
   "cell_type": "code",
   "execution_count": 5,
   "id": "single-russia",
   "metadata": {},
   "outputs": [
    {
     "data": {
      "text/plain": [
       "(2394    572.0\n",
       " 2395    571.0\n",
       " 2396    580.0\n",
       " 2397    575.0\n",
       " 2398    575.0\n",
       "         ...  \n",
       " 2545    528.0\n",
       " 2546    520.0\n",
       " 2547    524.0\n",
       " 2548    514.0\n",
       " 2549    530.0\n",
       " Name: Closing price, Length: 156, dtype: float64,\n",
       " (156,))"
      ]
     },
     "execution_count": 5,
     "metadata": {},
     "output_type": "execute_result"
    }
   ],
   "source": [
    "test = df['Closing price']\n",
    "test = test.iloc[tr:2550]\n",
    "test,test.shape"
   ]
  },
  {
   "cell_type": "code",
   "execution_count": 6,
   "id": "editorial-crossing",
   "metadata": {},
   "outputs": [
    {
     "data": {
      "text/plain": [
       "(pandas.core.series.Series, numpy.ndarray)"
      ]
     },
     "execution_count": 6,
     "metadata": {},
     "output_type": "execute_result"
    }
   ],
   "source": [
    "train_set = np.array(train)\n",
    "test_set = np.array(test)\n",
    "type(train),type(train_set)"
   ]
  },
  {
   "cell_type": "code",
   "execution_count": 7,
   "id": "fuzzy-style",
   "metadata": {},
   "outputs": [
    {
     "data": {
      "text/plain": [
       "((2394, 1), (156, 1))"
      ]
     },
     "execution_count": 7,
     "metadata": {},
     "output_type": "execute_result"
    }
   ],
   "source": [
    "train_set = train_set.reshape(tr,-1)\n",
    "test_set = test_set.reshape(te,-1)\n",
    "train_set.shape,test_set.shape"
   ]
  },
  {
   "cell_type": "code",
   "execution_count": 8,
   "id": "legitimate-consolidation",
   "metadata": {},
   "outputs": [
    {
     "data": {
      "text/plain": [
       "array([[572.],\n",
       "       [571.],\n",
       "       [580.],\n",
       "       [575.],\n",
       "       [575.],\n",
       "       [571.],\n",
       "       [573.],\n",
       "       [600.],\n",
       "       [590.],\n",
       "       [600.],\n",
       "       [598.],\n",
       "       [596.],\n",
       "       [600.],\n",
       "       [593.],\n",
       "       [599.],\n",
       "       [599.],\n",
       "       [595.],\n",
       "       [590.],\n",
       "       [590.],\n",
       "       [592.],\n",
       "       [592.],\n",
       "       [587.],\n",
       "       [600.],\n",
       "       [602.],\n",
       "       [611.],\n",
       "       [612.],\n",
       "       [606.],\n",
       "       [604.],\n",
       "       [608.],\n",
       "       [610.],\n",
       "       [610.],\n",
       "       [613.],\n",
       "       [618.],\n",
       "       [615.],\n",
       "       [612.],\n",
       "       [603.],\n",
       "       [603.],\n",
       "       [596.],\n",
       "       [593.],\n",
       "       [596.],\n",
       "       [600.],\n",
       "       [615.],\n",
       "       [608.],\n",
       "       [600.],\n",
       "       [607.],\n",
       "       [602.],\n",
       "       [608.],\n",
       "       [605.],\n",
       "       [601.],\n",
       "       [599.],\n",
       "       [600.],\n",
       "       [605.],\n",
       "       [607.],\n",
       "       [598.],\n",
       "       [597.],\n",
       "       [600.],\n",
       "       [606.],\n",
       "       [604.],\n",
       "       [606.],\n",
       "       [615.],\n",
       "       [616.],\n",
       "       [615.],\n",
       "       [631.],\n",
       "       [656.],\n",
       "       [650.],\n",
       "       [644.],\n",
       "       [634.],\n",
       "       [643.],\n",
       "       [651.],\n",
       "       [660.],\n",
       "       [661.],\n",
       "       [672.],\n",
       "       [683.],\n",
       "       [662.],\n",
       "       [654.],\n",
       "       [651.],\n",
       "       [641.],\n",
       "       [653.],\n",
       "       [641.],\n",
       "       [636.],\n",
       "       [635.],\n",
       "       [628.],\n",
       "       [633.],\n",
       "       [649.],\n",
       "       [650.],\n",
       "       [637.],\n",
       "       [633.],\n",
       "       [646.],\n",
       "       [645.],\n",
       "       [637.],\n",
       "       [632.],\n",
       "       [627.],\n",
       "       [625.],\n",
       "       [604.],\n",
       "       [604.],\n",
       "       [604.],\n",
       "       [601.],\n",
       "       [602.],\n",
       "       [595.],\n",
       "       [576.],\n",
       "       [563.],\n",
       "       [568.],\n",
       "       [587.],\n",
       "       [575.],\n",
       "       [572.],\n",
       "       [558.],\n",
       "       [558.],\n",
       "       [582.],\n",
       "       [581.],\n",
       "       [586.],\n",
       "       [583.],\n",
       "       [590.],\n",
       "       [591.],\n",
       "       [598.],\n",
       "       [584.],\n",
       "       [589.],\n",
       "       [600.],\n",
       "       [597.],\n",
       "       [589.],\n",
       "       [578.],\n",
       "       [566.],\n",
       "       [567.],\n",
       "       [558.],\n",
       "       [557.],\n",
       "       [573.],\n",
       "       [573.],\n",
       "       [562.],\n",
       "       [561.],\n",
       "       [565.],\n",
       "       [570.],\n",
       "       [565.],\n",
       "       [558.],\n",
       "       [547.],\n",
       "       [546.],\n",
       "       [526.],\n",
       "       [531.],\n",
       "       [538.],\n",
       "       [531.],\n",
       "       [534.],\n",
       "       [542.],\n",
       "       [528.],\n",
       "       [520.],\n",
       "       [518.],\n",
       "       [521.],\n",
       "       [505.],\n",
       "       [511.],\n",
       "       [520.],\n",
       "       [530.],\n",
       "       [538.],\n",
       "       [522.],\n",
       "       [530.],\n",
       "       [528.],\n",
       "       [520.],\n",
       "       [524.],\n",
       "       [514.],\n",
       "       [530.]])"
      ]
     },
     "execution_count": 8,
     "metadata": {},
     "output_type": "execute_result"
    }
   ],
   "source": [
    "test_set"
   ]
  },
  {
   "cell_type": "code",
   "execution_count": 9,
   "id": "sexual-partition",
   "metadata": {},
   "outputs": [
    {
     "data": {
      "text/plain": [
       "(array([[0.0011692 ],\n",
       "        [0.0023384 ],\n",
       "        [0.00250543],\n",
       "        ...,\n",
       "        [0.84466344],\n",
       "        [0.83464172],\n",
       "        [0.83130115]]),\n",
       " array([[0.83130115],\n",
       "        [0.82963087],\n",
       "        [0.84466344],\n",
       "        [0.83631201],\n",
       "        [0.83631201],\n",
       "        [0.82963087],\n",
       "        [0.83297144],\n",
       "        [0.87806915],\n",
       "        [0.86136629],\n",
       "        [0.87806915],\n",
       "        [0.87472858],\n",
       "        [0.87138801],\n",
       "        [0.87806915],\n",
       "        [0.86637715],\n",
       "        [0.87639886],\n",
       "        [0.87639886],\n",
       "        [0.86971772],\n",
       "        [0.86136629],\n",
       "        [0.86136629],\n",
       "        [0.86470686],\n",
       "        [0.86470686],\n",
       "        [0.85635544],\n",
       "        [0.87806915],\n",
       "        [0.88140972],\n",
       "        [0.89644229],\n",
       "        [0.89811258],\n",
       "        [0.88809086],\n",
       "        [0.88475029],\n",
       "        [0.89143143],\n",
       "        [0.89477201],\n",
       "        [0.89477201],\n",
       "        [0.89978286],\n",
       "        [0.90813429],\n",
       "        [0.90312343],\n",
       "        [0.89811258],\n",
       "        [0.88308001],\n",
       "        [0.88308001],\n",
       "        [0.87138801],\n",
       "        [0.86637715],\n",
       "        [0.87138801],\n",
       "        [0.87806915],\n",
       "        [0.90312343],\n",
       "        [0.89143143],\n",
       "        [0.87806915],\n",
       "        [0.88976115],\n",
       "        [0.88140972],\n",
       "        [0.89143143],\n",
       "        [0.88642058],\n",
       "        [0.87973944],\n",
       "        [0.87639886],\n",
       "        [0.87806915],\n",
       "        [0.88642058],\n",
       "        [0.88976115],\n",
       "        [0.87472858],\n",
       "        [0.87305829],\n",
       "        [0.87806915],\n",
       "        [0.88809086],\n",
       "        [0.88475029],\n",
       "        [0.88809086],\n",
       "        [0.90312343],\n",
       "        [0.90479372],\n",
       "        [0.90312343],\n",
       "        [0.929848  ],\n",
       "        [0.97160514],\n",
       "        [0.96158343],\n",
       "        [0.95156172],\n",
       "        [0.93485886],\n",
       "        [0.94989143],\n",
       "        [0.96325372],\n",
       "        [0.97828629],\n",
       "        [0.97995657],\n",
       "        [0.99832971],\n",
       "        [1.01670286],\n",
       "        [0.98162686],\n",
       "        [0.96826457],\n",
       "        [0.96325372],\n",
       "        [0.94655086],\n",
       "        [0.96659429],\n",
       "        [0.94655086],\n",
       "        [0.93819943],\n",
       "        [0.93652915],\n",
       "        [0.92483715],\n",
       "        [0.93318858],\n",
       "        [0.95991315],\n",
       "        [0.96158343],\n",
       "        [0.93986972],\n",
       "        [0.93318858],\n",
       "        [0.95490229],\n",
       "        [0.953232  ],\n",
       "        [0.93986972],\n",
       "        [0.93151829],\n",
       "        [0.92316686],\n",
       "        [0.91982629],\n",
       "        [0.88475029],\n",
       "        [0.88475029],\n",
       "        [0.88475029],\n",
       "        [0.87973944],\n",
       "        [0.88140972],\n",
       "        [0.86971772],\n",
       "        [0.83798229],\n",
       "        [0.81626858],\n",
       "        [0.82462001],\n",
       "        [0.85635544],\n",
       "        [0.83631201],\n",
       "        [0.83130115],\n",
       "        [0.80791715],\n",
       "        [0.80791715],\n",
       "        [0.84800401],\n",
       "        [0.84633372],\n",
       "        [0.85468515],\n",
       "        [0.84967429],\n",
       "        [0.86136629],\n",
       "        [0.86303658],\n",
       "        [0.87472858],\n",
       "        [0.85134458],\n",
       "        [0.85969601],\n",
       "        [0.87806915],\n",
       "        [0.87305829],\n",
       "        [0.85969601],\n",
       "        [0.84132287],\n",
       "        [0.82127944],\n",
       "        [0.82294972],\n",
       "        [0.80791715],\n",
       "        [0.80624687],\n",
       "        [0.83297144],\n",
       "        [0.83297144],\n",
       "        [0.8145983 ],\n",
       "        [0.81292801],\n",
       "        [0.81960915],\n",
       "        [0.82796058],\n",
       "        [0.81960915],\n",
       "        [0.80791715],\n",
       "        [0.78954401],\n",
       "        [0.78787373],\n",
       "        [0.75446801],\n",
       "        [0.76281944],\n",
       "        [0.77451144],\n",
       "        [0.76281944],\n",
       "        [0.7678303 ],\n",
       "        [0.78119258],\n",
       "        [0.75780859],\n",
       "        [0.7444463 ],\n",
       "        [0.74110573],\n",
       "        [0.74611659],\n",
       "        [0.71939202],\n",
       "        [0.72941373],\n",
       "        [0.7444463 ],\n",
       "        [0.76114916],\n",
       "        [0.77451144],\n",
       "        [0.74778687],\n",
       "        [0.76114916],\n",
       "        [0.75780859],\n",
       "        [0.7444463 ],\n",
       "        [0.75112744],\n",
       "        [0.73442459],\n",
       "        [0.76114916]]))"
      ]
     },
     "execution_count": 9,
     "metadata": {},
     "output_type": "execute_result"
    }
   ],
   "source": [
    "sc = MinMaxScaler(feature_range=(0, 1)) \n",
    "train_scaled = sc.fit_transform(train_set) \n",
    "test_scaled = sc.transform(test_set)\n",
    "train_scaled,test_scaled"
   ]
  },
  {
   "cell_type": "code",
   "execution_count": 10,
   "id": "occasional-situation",
   "metadata": {},
   "outputs": [],
   "source": [
    "x_train = []\n",
    "y_train = []\n",
    "x_test = []\n",
    "y_test = []"
   ]
  },
  {
   "cell_type": "code",
   "execution_count": 11,
   "id": "tired-clone",
   "metadata": {},
   "outputs": [],
   "source": [
    "for i in range(day, len(train_scaled)):\n",
    "    x_train.append(train_scaled[i - day:i, 0])\n",
    "    y_train.append(train_scaled[i, 0])"
   ]
  },
  {
   "cell_type": "code",
   "execution_count": 12,
   "id": "innocent-release",
   "metadata": {},
   "outputs": [
    {
     "data": {
      "text/plain": [
       "(array([0.00517789, 0.00534491, 0.00618006, 0.00434274, 0.00384166,\n",
       "        0.00501086, 0.0070152 , 0.0070152 , 0.00952063, 0.00952063]),\n",
       " 0.009520628027392675)"
      ]
     },
     "execution_count": 12,
     "metadata": {},
     "output_type": "execute_result"
    }
   ],
   "source": [
    "x_train[20],y_train[20]"
   ]
  },
  {
   "cell_type": "code",
   "execution_count": 13,
   "id": "funky-genre",
   "metadata": {},
   "outputs": [],
   "source": [
    "np.random.seed(5)\n",
    "np.random.shuffle(x_train)\n",
    "np.random.seed(5)\n",
    "np.random.shuffle(y_train)\n",
    "tf.random.set_random_seed(5)"
   ]
  },
  {
   "cell_type": "code",
   "execution_count": 14,
   "id": "revolutionary-finish",
   "metadata": {},
   "outputs": [
    {
     "data": {
      "text/plain": [
       "(array([0.28094204, 0.28344747, 0.28177718, 0.28094204, 0.2801069 ,\n",
       "        0.28845833, 0.29346918, 0.29430433, 0.30098547, 0.3034909 ]),\n",
       " 0.296809754468014)"
      ]
     },
     "execution_count": 14,
     "metadata": {},
     "output_type": "execute_result"
    }
   ],
   "source": [
    "x_train[20],y_train[20]"
   ]
  },
  {
   "cell_type": "code",
   "execution_count": 15,
   "id": "varying-sector",
   "metadata": {},
   "outputs": [],
   "source": [
    "#len(x_train),x_test[0]"
   ]
  },
  {
   "cell_type": "code",
   "execution_count": 16,
   "id": "revolutionary-titanium",
   "metadata": {},
   "outputs": [],
   "source": [
    "x_train = np.array(x_train)\n",
    "y_train = np.array(y_train)"
   ]
  },
  {
   "cell_type": "code",
   "execution_count": 17,
   "id": "better-diana",
   "metadata": {},
   "outputs": [],
   "source": [
    "for i in range(day, len(test_set)):\n",
    "    x_test.append(test_scaled[i - day:i, 0])\n",
    "    y_test.append(test_scaled[i, 0])"
   ]
  },
  {
   "cell_type": "code",
   "execution_count": 18,
   "id": "collected-plumbing",
   "metadata": {},
   "outputs": [
    {
     "data": {
      "text/plain": [
       "(array([0.86470686, 0.85635544, 0.87806915, 0.88140972, 0.89644229,\n",
       "        0.89811258, 0.88809086, 0.88475029, 0.89143143, 0.89477201]),\n",
       " 0.8947720060130282)"
      ]
     },
     "execution_count": 18,
     "metadata": {},
     "output_type": "execute_result"
    }
   ],
   "source": [
    "x_test[20],y_test[20]"
   ]
  },
  {
   "cell_type": "code",
   "execution_count": 19,
   "id": "taken-carrier",
   "metadata": {},
   "outputs": [],
   "source": [
    "x_test = np.array(x_test)\n",
    "y_test = np.array(y_test)"
   ]
  },
  {
   "cell_type": "code",
   "execution_count": 20,
   "id": "certain-sister",
   "metadata": {},
   "outputs": [],
   "source": [
    "x_train = np.reshape(x_train, (x_train.shape[0],day,1))\n",
    "x_test = np.reshape(x_test, (x_test.shape[0],day,1))\n",
    "#x_train = sequence.pad_sequences(x_train, maxlen=5)\n",
    "#x_test = sequence.pad_sequences(x_test, maxlen=5)"
   ]
  },
  {
   "cell_type": "code",
   "execution_count": 21,
   "id": "proprietary-weather",
   "metadata": {},
   "outputs": [
    {
     "data": {
      "text/plain": [
       "((2384, 10, 1), (146, 10, 1))"
      ]
     },
     "execution_count": 21,
     "metadata": {},
     "output_type": "execute_result"
    }
   ],
   "source": [
    "x_train.shape,x_test.shape"
   ]
  },
  {
   "cell_type": "code",
   "execution_count": 22,
   "id": "southwest-paradise",
   "metadata": {},
   "outputs": [
    {
     "name": "stdout",
     "output_type": "stream",
     "text": [
      "WARNING:tensorflow:From c:\\users\\watso\\appdata\\local\\programs\\python\\python36\\lib\\site-packages\\tensorflow\\python\\ops\\resource_variable_ops.py:435: colocate_with (from tensorflow.python.framework.ops) is deprecated and will be removed in a future version.\n",
      "Instructions for updating:\n",
      "Colocations handled automatically by placer.\n"
     ]
    }
   ],
   "source": [
    "model = Sequential()\n",
    "model.add(LSTM(units=100,return_sequences=True,input_shape = (x_train.shape[1], 1)))\n",
    "model.add(Dropout(0.2))\n",
    "model.add(LSTM(units = 80,activation='relu'))\n",
    "model.add(Dense(1, activation='sigmoid'))\n"
   ]
  },
  {
   "cell_type": "code",
   "execution_count": 23,
   "id": "cutting-planning",
   "metadata": {},
   "outputs": [
    {
     "name": "stdout",
     "output_type": "stream",
     "text": [
      "Model: \"sequential_1\"\n",
      "_________________________________________________________________\n",
      "Layer (type)                 Output Shape              Param #   \n",
      "=================================================================\n",
      "lstm_1 (LSTM)                (None, 10, 100)           40800     \n",
      "_________________________________________________________________\n",
      "dropout_1 (Dropout)          (None, 10, 100)           0         \n",
      "_________________________________________________________________\n",
      "lstm_2 (LSTM)                (None, 80)                57920     \n",
      "_________________________________________________________________\n",
      "dense_1 (Dense)              (None, 1)                 81        \n",
      "=================================================================\n",
      "Total params: 98,801\n",
      "Trainable params: 98,801\n",
      "Non-trainable params: 0\n",
      "_________________________________________________________________\n",
      "WARNING:tensorflow:From c:\\users\\watso\\appdata\\local\\programs\\python\\python36\\lib\\site-packages\\tensorflow\\python\\ops\\math_ops.py:3066: to_int32 (from tensorflow.python.ops.math_ops) is deprecated and will be removed in a future version.\n",
      "Instructions for updating:\n",
      "Use tf.cast instead.\n",
      "Epoch 1/100\n",
      "2384/2384 [==============================] - 1s 628us/step - loss: 0.0314 - accuracy: 8.3893e-04\n",
      "Epoch 2/100\n",
      "2384/2384 [==============================] - 1s 388us/step - loss: 8.1057e-04 - accuracy: 8.3893e-04\n",
      "Epoch 3/100\n",
      "2384/2384 [==============================] - 1s 386us/step - loss: 5.0587e-04 - accuracy: 8.3893e-04\n",
      "Epoch 4/100\n",
      "2384/2384 [==============================] - 1s 385us/step - loss: 3.6932e-04 - accuracy: 8.3893e-04\n",
      "Epoch 5/100\n",
      "2384/2384 [==============================] - 1s 414us/step - loss: 3.8622e-04 - accuracy: 8.3893e-04\n",
      "Epoch 6/100\n",
      "2384/2384 [==============================] - 1s 416us/step - loss: 3.2719e-04 - accuracy: 8.3893e-04 loss: 2.9359e-04 \n",
      "Epoch 7/100\n",
      "2384/2384 [==============================] - 1s 401us/step - loss: 3.1294e-04 - accuracy: 8.3893e-04\n",
      "Epoch 8/100\n",
      "2384/2384 [==============================] - 1s 392us/step - loss: 3.3304e-04 - accuracy: 8.3893e-04\n",
      "Epoch 9/100\n",
      "2384/2384 [==============================] - 1s 402us/step - loss: 3.2776e-04 - accuracy: 8.3893e-04\n",
      "Epoch 10/100\n",
      "2384/2384 [==============================] - 1s 399us/step - loss: 3.2286e-04 - accuracy: 8.3893e-04\n",
      "Epoch 11/100\n",
      "2384/2384 [==============================] - 1s 392us/step - loss: 3.0893e-04 - accuracy: 8.3893e-04\n",
      "Epoch 12/100\n",
      "2384/2384 [==============================] - 1s 387us/step - loss: 3.2739e-04 - accuracy: 8.3893e-04\n",
      "Epoch 13/100\n",
      "2384/2384 [==============================] - 1s 386us/step - loss: 3.1826e-04 - accuracy: 8.3893e-04\n",
      "Epoch 14/100\n",
      "2384/2384 [==============================] - 1s 389us/step - loss: 3.4928e-04 - accuracy: 8.3893e-04\n",
      "Epoch 15/100\n",
      "2384/2384 [==============================] - 1s 388us/step - loss: 3.7718e-04 - accuracy: 8.3893e-04\n",
      "Epoch 16/100\n",
      "2384/2384 [==============================] - 1s 389us/step - loss: 3.5000e-04 - accuracy: 8.3893e-04\n",
      "Epoch 17/100\n",
      "2384/2384 [==============================] - 1s 388us/step - loss: 2.6953e-04 - accuracy: 8.3893e-04\n",
      "Epoch 18/100\n",
      "2384/2384 [==============================] - 1s 392us/step - loss: 3.0115e-04 - accuracy: 8.3893e-04\n",
      "Epoch 19/100\n",
      "2384/2384 [==============================] - 1s 393us/step - loss: 3.0616e-04 - accuracy: 8.3893e-040s - loss: 3.4058e\n",
      "Epoch 20/100\n",
      "2384/2384 [==============================] - 1s 409us/step - loss: 2.9066e-04 - accuracy: 8.3893e-04\n",
      "Epoch 21/100\n",
      "2384/2384 [==============================] - 1s 397us/step - loss: 2.8297e-04 - accuracy: 8.3893e-04\n",
      "Epoch 22/100\n",
      "2384/2384 [==============================] - 1s 397us/step - loss: 2.8869e-04 - accuracy: 8.3893e-04\n",
      "Epoch 23/100\n",
      "2384/2384 [==============================] - 1s 398us/step - loss: 2.9819e-04 - accuracy: 8.3893e-04\n",
      "Epoch 24/100\n",
      "2384/2384 [==============================] - 1s 401us/step - loss: 3.0883e-04 - accuracy: 8.3893e-04\n",
      "Epoch 25/100\n",
      "2384/2384 [==============================] - 1s 399us/step - loss: 2.9435e-04 - accuracy: 8.3893e-04\n",
      "Epoch 26/100\n",
      "2384/2384 [==============================] - 1s 393us/step - loss: 2.6203e-04 - accuracy: 8.3893e-04\n",
      "Epoch 27/100\n",
      "2384/2384 [==============================] - 1s 396us/step - loss: 2.7933e-04 - accuracy: 8.3893e-04\n",
      "Epoch 28/100\n",
      "2384/2384 [==============================] - 1s 394us/step - loss: 2.8210e-04 - accuracy: 8.3893e-04\n",
      "Epoch 29/100\n",
      "2384/2384 [==============================] - 1s 412us/step - loss: 2.4720e-04 - accuracy: 8.3893e-04\n",
      "Epoch 30/100\n",
      "2384/2384 [==============================] - 1s 394us/step - loss: 2.6100e-04 - accuracy: 8.3893e-04\n",
      "Epoch 31/100\n",
      "2384/2384 [==============================] - 1s 392us/step - loss: 2.6321e-04 - accuracy: 8.3893e-04\n",
      "Epoch 32/100\n",
      "2384/2384 [==============================] - 1s 393us/step - loss: 2.5174e-04 - accuracy: 8.3893e-04\n",
      "Epoch 33/100\n",
      "2384/2384 [==============================] - 1s 393us/step - loss: 2.8218e-04 - accuracy: 8.3893e-04\n",
      "Epoch 34/100\n",
      "2384/2384 [==============================] - 1s 394us/step - loss: 2.5431e-04 - accuracy: 8.3893e-04\n",
      "Epoch 35/100\n",
      "2384/2384 [==============================] - 1s 393us/step - loss: 2.3281e-04 - accuracy: 8.3893e-04\n",
      "Epoch 36/100\n",
      "2384/2384 [==============================] - 1s 396us/step - loss: 2.6118e-04 - accuracy: 8.3893e-040s - loss: 2.9855e-04 \n",
      "Epoch 37/100\n",
      "2384/2384 [==============================] - 1s 398us/step - loss: 2.8130e-04 - accuracy: 8.3893e-04\n",
      "Epoch 38/100\n",
      "2384/2384 [==============================] - 1s 397us/step - loss: 2.2454e-04 - accuracy: 8.3893e-04\n",
      "Epoch 39/100\n",
      "2384/2384 [==============================] - 1s 397us/step - loss: 2.2351e-04 - accuracy: 8.3893e-04\n",
      "Epoch 40/100\n",
      "2384/2384 [==============================] - 1s 397us/step - loss: 2.1619e-04 - accuracy: 8.3893e-04\n",
      "Epoch 41/100\n",
      "2384/2384 [==============================] - 1s 397us/step - loss: 2.2290e-04 - accuracy: 8.3893e-04\n",
      "Epoch 42/100\n",
      "2384/2384 [==============================] - 1s 397us/step - loss: 2.3696e-04 - accuracy: 8.3893e-04\n",
      "Epoch 43/100\n",
      "2384/2384 [==============================] - 1s 399us/step - loss: 2.3514e-04 - accuracy: 8.3893e-04\n",
      "Epoch 44/100\n",
      "2384/2384 [==============================] - 1s 400us/step - loss: 2.4147e-04 - accuracy: 8.3893e-04\n",
      "Epoch 45/100\n",
      "2384/2384 [==============================] - 1s 398us/step - loss: 2.9445e-04 - accuracy: 8.3893e-04\n",
      "Epoch 46/100\n",
      "2384/2384 [==============================] - 1s 397us/step - loss: 2.1488e-04 - accuracy: 8.3893e-04\n",
      "Epoch 47/100\n",
      "2384/2384 [==============================] - 1s 393us/step - loss: 1.9615e-04 - accuracy: 8.3893e-04\n",
      "Epoch 48/100\n",
      "2384/2384 [==============================] - 1s 399us/step - loss: 2.0498e-04 - accuracy: 8.3893e-04\n",
      "Epoch 49/100\n",
      "2384/2384 [==============================] - 1s 395us/step - loss: 1.8739e-04 - accuracy: 8.3893e-04\n",
      "Epoch 50/100\n",
      "2384/2384 [==============================] - 1s 397us/step - loss: 1.9656e-04 - accuracy: 8.3893e-04\n",
      "Epoch 51/100\n",
      "2384/2384 [==============================] - 1s 396us/step - loss: 1.9339e-04 - accuracy: 8.3893e-04\n",
      "Epoch 52/100\n",
      "2384/2384 [==============================] - 1s 394us/step - loss: 2.3482e-04 - accuracy: 8.3893e-04\n",
      "Epoch 53/100\n",
      "2384/2384 [==============================] - 1s 397us/step - loss: 2.1746e-04 - accuracy: 8.3893e-04\n",
      "Epoch 54/100\n",
      "2384/2384 [==============================] - 1s 409us/step - loss: 2.3069e-04 - accuracy: 8.3893e-04\n",
      "Epoch 55/100\n",
      "2384/2384 [==============================] - 1s 399us/step - loss: 2.0526e-04 - accuracy: 8.3893e-04\n",
      "Epoch 56/100\n",
      "2384/2384 [==============================] - 1s 407us/step - loss: 2.1057e-04 - accuracy: 8.3893e-04\n",
      "Epoch 57/100\n",
      "2384/2384 [==============================] - 1s 405us/step - loss: 2.2219e-04 - accuracy: 8.3893e-04\n",
      "Epoch 58/100\n",
      "2384/2384 [==============================] - 1s 405us/step - loss: 1.9989e-04 - accuracy: 8.3893e-04\n",
      "Epoch 59/100\n",
      "2384/2384 [==============================] - 1s 407us/step - loss: 1.6749e-04 - accuracy: 8.3893e-04\n",
      "Epoch 60/100\n",
      "2384/2384 [==============================] - 1s 401us/step - loss: 1.8794e-04 - accuracy: 8.3893e-04\n",
      "Epoch 61/100\n",
      "2384/2384 [==============================] - 1s 411us/step - loss: 2.1046e-04 - accuracy: 8.3893e-04\n",
      "Epoch 62/100\n"
     ]
    },
    {
     "name": "stdout",
     "output_type": "stream",
     "text": [
      "2384/2384 [==============================] - 1s 400us/step - loss: 2.3254e-04 - accuracy: 8.3893e-04\n",
      "Epoch 63/100\n",
      "2384/2384 [==============================] - 1s 399us/step - loss: 1.8060e-04 - accuracy: 8.3893e-04\n",
      "Epoch 64/100\n",
      "2384/2384 [==============================] - 1s 395us/step - loss: 1.9446e-04 - accuracy: 8.3893e-04\n",
      "Epoch 65/100\n",
      "2384/2384 [==============================] - 1s 394us/step - loss: 1.8204e-04 - accuracy: 8.3893e-04\n",
      "Epoch 66/100\n",
      "2384/2384 [==============================] - 1s 393us/step - loss: 1.7026e-04 - accuracy: 8.3893e-04\n",
      "Epoch 67/100\n",
      "2384/2384 [==============================] - 1s 394us/step - loss: 1.6887e-04 - accuracy: 8.3893e-04\n",
      "Epoch 68/100\n",
      "2384/2384 [==============================] - 1s 395us/step - loss: 1.8278e-04 - accuracy: 8.3893e-04\n",
      "Epoch 69/100\n",
      "2384/2384 [==============================] - 1s 400us/step - loss: 1.9296e-04 - accuracy: 8.3893e-040s - loss: 1.9624e-04 - accuracy: 0.\n",
      "Epoch 70/100\n",
      "2384/2384 [==============================] - 1s 400us/step - loss: 1.7459e-04 - accuracy: 8.3893e-04\n",
      "Epoch 71/100\n",
      "2384/2384 [==============================] - 1s 402us/step - loss: 1.4830e-04 - accuracy: 8.3893e-04\n",
      "Epoch 72/100\n",
      "2384/2384 [==============================] - 1s 398us/step - loss: 1.6951e-04 - accuracy: 8.3893e-04\n",
      "Epoch 73/100\n",
      "2384/2384 [==============================] - 1s 406us/step - loss: 1.7149e-04 - accuracy: 8.3893e-04\n",
      "Epoch 74/100\n",
      "2384/2384 [==============================] - 1s 400us/step - loss: 1.5699e-04 - accuracy: 8.3893e-04\n",
      "Epoch 75/100\n",
      "2384/2384 [==============================] - 1s 397us/step - loss: 1.7579e-04 - accuracy: 8.3893e-04\n",
      "Epoch 76/100\n",
      "2384/2384 [==============================] - 1s 397us/step - loss: 1.8700e-04 - accuracy: 8.3893e-04\n",
      "Epoch 77/100\n",
      "2384/2384 [==============================] - 1s 397us/step - loss: 1.7319e-04 - accuracy: 8.3893e-04\n",
      "Epoch 78/100\n",
      "2384/2384 [==============================] - 1s 397us/step - loss: 1.5648e-04 - accuracy: 8.3893e-04\n",
      "Epoch 79/100\n",
      "2384/2384 [==============================] - 1s 402us/step - loss: 1.3168e-04 - accuracy: 8.3893e-04\n",
      "Epoch 80/100\n",
      "2384/2384 [==============================] - 1s 397us/step - loss: 1.5040e-04 - accuracy: 8.3893e-04\n",
      "Epoch 81/100\n",
      "2384/2384 [==============================] - 1s 400us/step - loss: 1.7442e-04 - accuracy: 8.3893e-04\n",
      "Epoch 82/100\n",
      "2384/2384 [==============================] - 1s 401us/step - loss: 1.5467e-04 - accuracy: 8.3893e-04\n",
      "Epoch 83/100\n",
      "2384/2384 [==============================] - 1s 399us/step - loss: 1.3856e-04 - accuracy: 8.3893e-04\n",
      "Epoch 84/100\n",
      "2384/2384 [==============================] - 1s 399us/step - loss: 1.4583e-04 - accuracy: 8.3893e-04\n",
      "Epoch 85/100\n",
      "2384/2384 [==============================] - 1s 398us/step - loss: 1.4052e-04 - accuracy: 8.3893e-04\n",
      "Epoch 86/100\n",
      "2384/2384 [==============================] - 1s 410us/step - loss: 1.4249e-04 - accuracy: 8.3893e-04\n",
      "Epoch 87/100\n",
      "2384/2384 [==============================] - 1s 403us/step - loss: 1.4701e-04 - accuracy: 8.3893e-04\n",
      "Epoch 88/100\n",
      "2384/2384 [==============================] - 1s 397us/step - loss: 1.4128e-04 - accuracy: 8.3893e-04\n",
      "Epoch 89/100\n",
      "2384/2384 [==============================] - 1s 397us/step - loss: 1.3946e-04 - accuracy: 8.3893e-04\n",
      "Epoch 90/100\n",
      "2384/2384 [==============================] - 1s 397us/step - loss: 1.4966e-04 - accuracy: 8.3893e-04\n",
      "Epoch 91/100\n",
      "2384/2384 [==============================] - 1s 400us/step - loss: 1.3854e-04 - accuracy: 8.3893e-04\n",
      "Epoch 92/100\n",
      "2384/2384 [==============================] - 1s 393us/step - loss: 1.4636e-04 - accuracy: 8.3893e-04\n",
      "Epoch 93/100\n",
      "2384/2384 [==============================] - 1s 401us/step - loss: 1.3922e-04 - accuracy: 8.3893e-04\n",
      "Epoch 94/100\n",
      "2384/2384 [==============================] - 1s 401us/step - loss: 1.3395e-04 - accuracy: 8.3893e-04\n",
      "Epoch 95/100\n",
      "2384/2384 [==============================] - 1s 401us/step - loss: 1.4940e-04 - accuracy: 8.3893e-04\n",
      "Epoch 96/100\n",
      "2384/2384 [==============================] - 1s 410us/step - loss: 1.2968e-04 - accuracy: 8.3893e-04\n",
      "Epoch 97/100\n",
      "2384/2384 [==============================] - 1s 405us/step - loss: 1.4658e-04 - accuracy: 8.3893e-04\n",
      "Epoch 98/100\n",
      "2384/2384 [==============================] - 1s 399us/step - loss: 1.4258e-04 - accuracy: 8.3893e-040s - loss: 1.4635e-04 - accuracy: \n",
      "Epoch 99/100\n",
      "2384/2384 [==============================] - 1s 402us/step - loss: 1.6374e-04 - accuracy: 8.3893e-04\n",
      "Epoch 100/100\n",
      "2384/2384 [==============================] - 1s 397us/step - loss: 1.3263e-04 - accuracy: 8.3893e-04\n"
     ]
    },
    {
     "data": {
      "text/plain": [
       "<keras.callbacks.callbacks.History at 0x14ddb189e10>"
      ]
     },
     "execution_count": 23,
     "metadata": {},
     "output_type": "execute_result"
    }
   ],
   "source": [
    "model.compile(loss='mean_squared_error',optimizer='adam',metrics=['accuracy'])\n",
    "model.summary()\n",
    "model.fit(x_train,y_train,batch_size=32,epochs=100)"
   ]
  },
  {
   "cell_type": "code",
   "execution_count": 24,
   "id": "dangerous-cocktail",
   "metadata": {},
   "outputs": [],
   "source": [
    "predict_stock = model.predict(x_test)\n",
    "predict_stock = sc.inverse_transform(predict_stock)"
   ]
  },
  {
   "cell_type": "code",
   "execution_count": 25,
   "id": "surrounded-equation",
   "metadata": {},
   "outputs": [
    {
     "data": {
      "text/plain": [
       "numpy.ndarray"
      ]
     },
     "execution_count": 25,
     "metadata": {},
     "output_type": "execute_result"
    }
   ],
   "source": [
    "type(predict_stock)"
   ]
  },
  {
   "cell_type": "code",
   "execution_count": 26,
   "id": "eligible-disclaimer",
   "metadata": {},
   "outputs": [
    {
     "data": {
      "text/plain": [
       "(146, 1)"
      ]
     },
     "execution_count": 26,
     "metadata": {},
     "output_type": "execute_result"
    }
   ],
   "source": [
    "test_set[0:te-day].shape"
   ]
  },
  {
   "cell_type": "code",
   "execution_count": 27,
   "id": "cultural-transsexual",
   "metadata": {},
   "outputs": [
    {
     "data": {
      "image/png": "[encoded data removed]",
      "text/plain": [
       "<Figure size 432x288 with 1 Axes>"
      ]
     },
     "metadata": {
      "needs_background": "light"
     },
     "output_type": "display_data"
    }
   ],
   "source": [
    "plt.plot(test_set[day:te], color = 'blue', label = 'Real')\n",
    "plt.plot(predict_stock, color = 'green', label = 'Predicted')\n",
    "plt.title('Stock Price')\n",
    "plt.xlabel('Time')\n",
    "plt.ylabel('Stock Price')\n",
    "plt.legend()\n",
    "plt.show()"
   ]
  },
  {
   "cell_type": "code",
   "execution_count": 28,
   "id": "legitimate-belly",
   "metadata": {},
   "outputs": [],
   "source": [
    "model.save('stock_10.h')"
   ]
  },
  {
   "cell_type": "code",
   "execution_count": null,
   "id": "mexican-tongue",
   "metadata": {},
   "outputs": [],
   "source": []
  }
 ],
 "metadata": {
  "kernelspec": {
   "display_name": "Python 3",
   "language": "python",
   "name": "python3"
  },
  "language_info": {
   "codemirror_mode": {
    "name": "ipython",
    "version": 3
   },
   "file_extension": ".py",
   "mimetype": "text/x-python",
   "name": "python",
   "nbconvert_exporter": "python",
   "pygments_lexer": "ipython3",
   "version": "3.6.8"
  }
 },
 "nbformat": 4,
 "nbformat_minor": 5
}
