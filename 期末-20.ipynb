{
 "cells": [
  {
   "cell_type": "code",
   "execution_count": 1,
   "id": "careful-riding",
   "metadata": {},
   "outputs": [
    {
     "name": "stdout",
     "output_type": "stream",
     "text": [
      "env: KERAS_BACKEND=tensorflow\n"
     ]
    }
   ],
   "source": [
    "%env KERAS_BACKEND=tensorflow"
   ]
  },
  {
   "cell_type": "code",
   "execution_count": 2,
   "id": "cleared-surgery",
   "metadata": {},
   "outputs": [
    {
     "name": "stderr",
     "output_type": "stream",
     "text": [
      "c:\\users\\watso\\appdata\\local\\programs\\python\\python36\\lib\\site-packages\\tensorflow\\python\\framework\\dtypes.py:526: FutureWarning: Passing (type, 1) or '1type' as a synonym of type is deprecated; in a future version of numpy, it will be understood as (type, (1,)) / '(1,)type'.\n",
      "  _np_qint8 = np.dtype([(\"qint8\", np.int8, 1)])\n",
      "c:\\users\\watso\\appdata\\local\\programs\\python\\python36\\lib\\site-packages\\tensorflow\\python\\framework\\dtypes.py:527: FutureWarning: Passing (type, 1) or '1type' as a synonym of type is deprecated; in a future version of numpy, it will be understood as (type, (1,)) / '(1,)type'.\n",
      "  _np_quint8 = np.dtype([(\"quint8\", np.uint8, 1)])\n",
      "c:\\users\\watso\\appdata\\local\\programs\\python\\python36\\lib\\site-packages\\tensorflow\\python\\framework\\dtypes.py:528: FutureWarning: Passing (type, 1) or '1type' as a synonym of type is deprecated; in a future version of numpy, it will be understood as (type, (1,)) / '(1,)type'.\n",
      "  _np_qint16 = np.dtype([(\"qint16\", np.int16, 1)])\n",
      "c:\\users\\watso\\appdata\\local\\programs\\python\\python36\\lib\\site-packages\\tensorflow\\python\\framework\\dtypes.py:529: FutureWarning: Passing (type, 1) or '1type' as a synonym of type is deprecated; in a future version of numpy, it will be understood as (type, (1,)) / '(1,)type'.\n",
      "  _np_quint16 = np.dtype([(\"quint16\", np.uint16, 1)])\n",
      "c:\\users\\watso\\appdata\\local\\programs\\python\\python36\\lib\\site-packages\\tensorflow\\python\\framework\\dtypes.py:530: FutureWarning: Passing (type, 1) or '1type' as a synonym of type is deprecated; in a future version of numpy, it will be understood as (type, (1,)) / '(1,)type'.\n",
      "  _np_qint32 = np.dtype([(\"qint32\", np.int32, 1)])\n",
      "c:\\users\\watso\\appdata\\local\\programs\\python\\python36\\lib\\site-packages\\tensorflow\\python\\framework\\dtypes.py:535: FutureWarning: Passing (type, 1) or '1type' as a synonym of type is deprecated; in a future version of numpy, it will be understood as (type, (1,)) / '(1,)type'.\n",
      "  np_resource = np.dtype([(\"resource\", np.ubyte, 1)])\n",
      "Using TensorFlow backend.\n"
     ]
    }
   ],
   "source": [
    "%matplotlib inline\n",
    "import numpy as np\n",
    "import tensorflow as tf\n",
    "import pandas as pd\n",
    "import matplotlib.pyplot as plt\n",
    "from keras.preprocessing import sequence\n",
    "from keras.models import Sequential\n",
    "from keras.layers import Dense, Embedding\n",
    "from keras.layers import LSTM\n",
    "import seaborn as sns\n",
    "from sklearn.metrics import confusion_matrix\n",
    "from sklearn.metrics import classification_report\n",
    "import matplotlib.pyplot as plt\n",
    "from sklearn.preprocessing import MinMaxScaler\n",
    "from keras.layers import Dropout\n",
    "\n",
    "tr = 5125\n",
    "te = 156\n",
    "day = 10"
   ]
  },
  {
   "cell_type": "code",
   "execution_count": 3,
   "id": "loose-palace",
   "metadata": {},
   "outputs": [
    {
     "data": {
      "text/html": [
       "<div>\n",
       "<style scoped>\n",
       "    .dataframe tbody tr th:only-of-type {\n",
       "        vertical-align: middle;\n",
       "    }\n",
       "\n",
       "    .dataframe tbody tr th {\n",
       "        vertical-align: top;\n",
       "    }\n",
       "\n",
       "    .dataframe thead th {\n",
       "        text-align: right;\n",
       "    }\n",
       "</style>\n",
       "<table border=\"1\" class=\"dataframe\">\n",
       "  <thead>\n",
       "    <tr style=\"text-align: right;\">\n",
       "      <th></th>\n",
       "      <th>date</th>\n",
       "      <th>Closing price</th>\n",
       "    </tr>\n",
       "  </thead>\n",
       "  <tbody>\n",
       "    <tr>\n",
       "      <th>0</th>\n",
       "      <td>2001/1/2</td>\n",
       "      <td>83.5</td>\n",
       "    </tr>\n",
       "    <tr>\n",
       "      <th>1</th>\n",
       "      <td>2001/1/3</td>\n",
       "      <td>80.5</td>\n",
       "    </tr>\n",
       "    <tr>\n",
       "      <th>2</th>\n",
       "      <td>2001/1/4</td>\n",
       "      <td>85.0</td>\n",
       "    </tr>\n",
       "    <tr>\n",
       "      <th>3</th>\n",
       "      <td>2001/1/5</td>\n",
       "      <td>90.5</td>\n",
       "    </tr>\n",
       "    <tr>\n",
       "      <th>4</th>\n",
       "      <td>2001/1/8</td>\n",
       "      <td>89.5</td>\n",
       "    </tr>\n",
       "    <tr>\n",
       "      <th>...</th>\n",
       "      <td>...</td>\n",
       "      <td>...</td>\n",
       "    </tr>\n",
       "    <tr>\n",
       "      <th>5276</th>\n",
       "      <td>2022/5/23</td>\n",
       "      <td>528.0</td>\n",
       "    </tr>\n",
       "    <tr>\n",
       "      <th>5277</th>\n",
       "      <td>2022/5/24</td>\n",
       "      <td>520.0</td>\n",
       "    </tr>\n",
       "    <tr>\n",
       "      <th>5278</th>\n",
       "      <td>2022/5/25</td>\n",
       "      <td>524.0</td>\n",
       "    </tr>\n",
       "    <tr>\n",
       "      <th>5279</th>\n",
       "      <td>2022/5/26</td>\n",
       "      <td>514.0</td>\n",
       "    </tr>\n",
       "    <tr>\n",
       "      <th>5280</th>\n",
       "      <td>2022/5/27</td>\n",
       "      <td>530.0</td>\n",
       "    </tr>\n",
       "  </tbody>\n",
       "</table>\n",
       "<p>5281 rows × 2 columns</p>\n",
       "</div>"
      ],
      "text/plain": [
       "           date  Closing price\n",
       "0      2001/1/2           83.5\n",
       "1      2001/1/3           80.5\n",
       "2      2001/1/4           85.0\n",
       "3      2001/1/5           90.5\n",
       "4      2001/1/8           89.5\n",
       "...         ...            ...\n",
       "5276  2022/5/23          528.0\n",
       "5277  2022/5/24          520.0\n",
       "5278  2022/5/25          524.0\n",
       "5279  2022/5/26          514.0\n",
       "5280  2022/5/27          530.0\n",
       "\n",
       "[5281 rows x 2 columns]"
      ]
     },
     "execution_count": 3,
     "metadata": {},
     "output_type": "execute_result"
    }
   ],
   "source": [
    "df = pd.read_csv(\"stock90_111.csv\")\n",
    "df"
   ]
  },
  {
   "cell_type": "code",
   "execution_count": 4,
   "id": "framed-vampire",
   "metadata": {},
   "outputs": [
    {
     "data": {
      "text/plain": [
       "(0        83.5\n",
       " 1        80.5\n",
       " 2        85.0\n",
       " 3        90.5\n",
       " 4        89.5\n",
       "         ...  \n",
       " 5120    594.0\n",
       " 5121    580.0\n",
       " 5122    580.0\n",
       " 5123    574.0\n",
       " 5124    572.0\n",
       " Name: Closing price, Length: 5125, dtype: float64,\n",
       " (5125,))"
      ]
     },
     "execution_count": 4,
     "metadata": {},
     "output_type": "execute_result"
    }
   ],
   "source": [
    "train = df['Closing price']\n",
    "train = train.iloc[0:tr]\n",
    "train,train.shape"
   ]
  },
  {
   "cell_type": "code",
   "execution_count": 5,
   "id": "single-russia",
   "metadata": {},
   "outputs": [
    {
     "data": {
      "text/plain": [
       "(5125    572.0\n",
       " 5126    571.0\n",
       " 5127    580.0\n",
       " 5128    575.0\n",
       " 5129    575.0\n",
       "         ...  \n",
       " 5276    528.0\n",
       " 5277    520.0\n",
       " 5278    524.0\n",
       " 5279    514.0\n",
       " 5280    530.0\n",
       " Name: Closing price, Length: 156, dtype: float64,\n",
       " (156,))"
      ]
     },
     "execution_count": 5,
     "metadata": {},
     "output_type": "execute_result"
    }
   ],
   "source": [
    "test = df['Closing price']\n",
    "test = test.iloc[tr:]\n",
    "test,test.shape"
   ]
  },
  {
   "cell_type": "code",
   "execution_count": 6,
   "id": "editorial-crossing",
   "metadata": {},
   "outputs": [
    {
     "data": {
      "text/plain": [
       "(pandas.core.series.Series, numpy.ndarray)"
      ]
     },
     "execution_count": 6,
     "metadata": {},
     "output_type": "execute_result"
    }
   ],
   "source": [
    "train_set = np.array(train)\n",
    "test_set = np.array(test)\n",
    "type(train),type(train_set)"
   ]
  },
  {
   "cell_type": "code",
   "execution_count": 7,
   "id": "fuzzy-style",
   "metadata": {},
   "outputs": [
    {
     "data": {
      "text/plain": [
       "((5125, 1), (156, 1))"
      ]
     },
     "execution_count": 7,
     "metadata": {},
     "output_type": "execute_result"
    }
   ],
   "source": [
    "train_set = train_set.reshape(tr,-1)\n",
    "test_set = test_set.reshape(te,-1)\n",
    "train_set.shape,test_set.shape"
   ]
  },
  {
   "cell_type": "code",
   "execution_count": 8,
   "id": "legitimate-consolidation",
   "metadata": {},
   "outputs": [
    {
     "data": {
      "text/plain": [
       "array([[572.],\n",
       "       [571.],\n",
       "       [580.],\n",
       "       [575.],\n",
       "       [575.],\n",
       "       [571.],\n",
       "       [573.],\n",
       "       [600.],\n",
       "       [590.],\n",
       "       [600.],\n",
       "       [598.],\n",
       "       [596.],\n",
       "       [600.],\n",
       "       [593.],\n",
       "       [599.],\n",
       "       [599.],\n",
       "       [595.],\n",
       "       [590.],\n",
       "       [590.],\n",
       "       [592.],\n",
       "       [592.],\n",
       "       [587.],\n",
       "       [600.],\n",
       "       [602.],\n",
       "       [611.],\n",
       "       [612.],\n",
       "       [606.],\n",
       "       [604.],\n",
       "       [608.],\n",
       "       [610.],\n",
       "       [610.],\n",
       "       [613.],\n",
       "       [618.],\n",
       "       [615.],\n",
       "       [612.],\n",
       "       [603.],\n",
       "       [603.],\n",
       "       [596.],\n",
       "       [593.],\n",
       "       [596.],\n",
       "       [600.],\n",
       "       [615.],\n",
       "       [608.],\n",
       "       [600.],\n",
       "       [607.],\n",
       "       [602.],\n",
       "       [608.],\n",
       "       [605.],\n",
       "       [601.],\n",
       "       [599.],\n",
       "       [600.],\n",
       "       [605.],\n",
       "       [607.],\n",
       "       [598.],\n",
       "       [597.],\n",
       "       [600.],\n",
       "       [606.],\n",
       "       [604.],\n",
       "       [606.],\n",
       "       [615.],\n",
       "       [616.],\n",
       "       [615.],\n",
       "       [631.],\n",
       "       [656.],\n",
       "       [650.],\n",
       "       [644.],\n",
       "       [634.],\n",
       "       [643.],\n",
       "       [651.],\n",
       "       [660.],\n",
       "       [661.],\n",
       "       [672.],\n",
       "       [683.],\n",
       "       [662.],\n",
       "       [654.],\n",
       "       [651.],\n",
       "       [641.],\n",
       "       [653.],\n",
       "       [641.],\n",
       "       [636.],\n",
       "       [635.],\n",
       "       [628.],\n",
       "       [633.],\n",
       "       [649.],\n",
       "       [650.],\n",
       "       [637.],\n",
       "       [633.],\n",
       "       [646.],\n",
       "       [645.],\n",
       "       [637.],\n",
       "       [632.],\n",
       "       [627.],\n",
       "       [625.],\n",
       "       [604.],\n",
       "       [604.],\n",
       "       [604.],\n",
       "       [601.],\n",
       "       [602.],\n",
       "       [595.],\n",
       "       [576.],\n",
       "       [563.],\n",
       "       [568.],\n",
       "       [587.],\n",
       "       [575.],\n",
       "       [572.],\n",
       "       [558.],\n",
       "       [558.],\n",
       "       [582.],\n",
       "       [581.],\n",
       "       [586.],\n",
       "       [583.],\n",
       "       [590.],\n",
       "       [591.],\n",
       "       [598.],\n",
       "       [584.],\n",
       "       [589.],\n",
       "       [600.],\n",
       "       [597.],\n",
       "       [589.],\n",
       "       [578.],\n",
       "       [566.],\n",
       "       [567.],\n",
       "       [558.],\n",
       "       [557.],\n",
       "       [573.],\n",
       "       [573.],\n",
       "       [562.],\n",
       "       [561.],\n",
       "       [565.],\n",
       "       [570.],\n",
       "       [565.],\n",
       "       [558.],\n",
       "       [547.],\n",
       "       [546.],\n",
       "       [526.],\n",
       "       [531.],\n",
       "       [538.],\n",
       "       [531.],\n",
       "       [534.],\n",
       "       [542.],\n",
       "       [528.],\n",
       "       [520.],\n",
       "       [518.],\n",
       "       [521.],\n",
       "       [505.],\n",
       "       [511.],\n",
       "       [520.],\n",
       "       [530.],\n",
       "       [538.],\n",
       "       [522.],\n",
       "       [530.],\n",
       "       [528.],\n",
       "       [520.],\n",
       "       [524.],\n",
       "       [514.],\n",
       "       [530.]])"
      ]
     },
     "execution_count": 8,
     "metadata": {},
     "output_type": "execute_result"
    }
   ],
   "source": [
    "test_set"
   ]
  },
  {
   "cell_type": "code",
   "execution_count": 9,
   "id": "sexual-partition",
   "metadata": {},
   "outputs": [
    {
     "data": {
      "text/plain": [
       "(array([[0.07514904],\n",
       "        [0.07044242],\n",
       "        [0.07750235],\n",
       "        ...,\n",
       "        [0.85409476],\n",
       "        [0.84468152],\n",
       "        [0.84154377]]),\n",
       " array([[0.84154377],\n",
       "        [0.8399749 ],\n",
       "        [0.85409476],\n",
       "        [0.84625039],\n",
       "        [0.84625039],\n",
       "        [0.8399749 ],\n",
       "        [0.84311265],\n",
       "        [0.88547223],\n",
       "        [0.8697835 ],\n",
       "        [0.88547223],\n",
       "        [0.88233448],\n",
       "        [0.87919674],\n",
       "        [0.88547223],\n",
       "        [0.87449012],\n",
       "        [0.88390336],\n",
       "        [0.88390336],\n",
       "        [0.87762786],\n",
       "        [0.8697835 ],\n",
       "        [0.8697835 ],\n",
       "        [0.87292124],\n",
       "        [0.87292124],\n",
       "        [0.86507687],\n",
       "        [0.88547223],\n",
       "        [0.88860998],\n",
       "        [0.90272984],\n",
       "        [0.90429871],\n",
       "        [0.89488547],\n",
       "        [0.89174773],\n",
       "        [0.89802322],\n",
       "        [0.90116097],\n",
       "        [0.90116097],\n",
       "        [0.90586759],\n",
       "        [0.91371195],\n",
       "        [0.90900533],\n",
       "        [0.90429871],\n",
       "        [0.89017885],\n",
       "        [0.89017885],\n",
       "        [0.87919674],\n",
       "        [0.87449012],\n",
       "        [0.87919674],\n",
       "        [0.88547223],\n",
       "        [0.90900533],\n",
       "        [0.89802322],\n",
       "        [0.88547223],\n",
       "        [0.89645435],\n",
       "        [0.88860998],\n",
       "        [0.89802322],\n",
       "        [0.8933166 ],\n",
       "        [0.8870411 ],\n",
       "        [0.88390336],\n",
       "        [0.88547223],\n",
       "        [0.8933166 ],\n",
       "        [0.89645435],\n",
       "        [0.88233448],\n",
       "        [0.88076561],\n",
       "        [0.88547223],\n",
       "        [0.89488547],\n",
       "        [0.89174773],\n",
       "        [0.89488547],\n",
       "        [0.90900533],\n",
       "        [0.91057421],\n",
       "        [0.90900533],\n",
       "        [0.93410731],\n",
       "        [0.97332915],\n",
       "        [0.96391591],\n",
       "        [0.95450267],\n",
       "        [0.93881393],\n",
       "        [0.95293379],\n",
       "        [0.96548478],\n",
       "        [0.97960464],\n",
       "        [0.98117352],\n",
       "        [0.99843113],\n",
       "        [1.01568874],\n",
       "        [0.98274239],\n",
       "        [0.9701914 ],\n",
       "        [0.96548478],\n",
       "        [0.94979605],\n",
       "        [0.96862253],\n",
       "        [0.94979605],\n",
       "        [0.94195168],\n",
       "        [0.94038281],\n",
       "        [0.92940069],\n",
       "        [0.93724506],\n",
       "        [0.96234703],\n",
       "        [0.96391591],\n",
       "        [0.94352055],\n",
       "        [0.93724506],\n",
       "        [0.95764041],\n",
       "        [0.95607154],\n",
       "        [0.94352055],\n",
       "        [0.93567618],\n",
       "        [0.92783182],\n",
       "        [0.92469407],\n",
       "        [0.89174773],\n",
       "        [0.89174773],\n",
       "        [0.89174773],\n",
       "        [0.8870411 ],\n",
       "        [0.88860998],\n",
       "        [0.87762786],\n",
       "        [0.84781927],\n",
       "        [0.82742391],\n",
       "        [0.83526828],\n",
       "        [0.86507687],\n",
       "        [0.84625039],\n",
       "        [0.84154377],\n",
       "        [0.81957954],\n",
       "        [0.81957954],\n",
       "        [0.85723251],\n",
       "        [0.85566363],\n",
       "        [0.863508  ],\n",
       "        [0.85880138],\n",
       "        [0.8697835 ],\n",
       "        [0.87135237],\n",
       "        [0.88233448],\n",
       "        [0.86037025],\n",
       "        [0.86821462],\n",
       "        [0.88547223],\n",
       "        [0.88076561],\n",
       "        [0.86821462],\n",
       "        [0.85095701],\n",
       "        [0.83213053],\n",
       "        [0.8336994 ],\n",
       "        [0.81957954],\n",
       "        [0.81801067],\n",
       "        [0.84311265],\n",
       "        [0.84311265],\n",
       "        [0.82585504],\n",
       "        [0.82428616],\n",
       "        [0.83056166],\n",
       "        [0.83840602],\n",
       "        [0.83056166],\n",
       "        [0.81957954],\n",
       "        [0.80232193],\n",
       "        [0.80075306],\n",
       "        [0.76937559],\n",
       "        [0.77721996],\n",
       "        [0.78820207],\n",
       "        [0.77721996],\n",
       "        [0.78192658],\n",
       "        [0.79447757],\n",
       "        [0.77251334],\n",
       "        [0.75996235],\n",
       "        [0.7568246 ],\n",
       "        [0.76153122],\n",
       "        [0.73642924],\n",
       "        [0.74584249],\n",
       "        [0.75996235],\n",
       "        [0.77565108],\n",
       "        [0.78820207],\n",
       "        [0.76310009],\n",
       "        [0.77565108],\n",
       "        [0.77251334],\n",
       "        [0.75996235],\n",
       "        [0.76623784],\n",
       "        [0.75054911],\n",
       "        [0.77565108]]))"
      ]
     },
     "execution_count": 9,
     "metadata": {},
     "output_type": "execute_result"
    }
   ],
   "source": [
    "sc = MinMaxScaler(feature_range=(0, 1)) \n",
    "train_scaled = sc.fit_transform(train_set) \n",
    "test_scaled = sc.transform(test_set)\n",
    "train_scaled,test_scaled"
   ]
  },
  {
   "cell_type": "code",
   "execution_count": 10,
   "id": "occasional-situation",
   "metadata": {},
   "outputs": [],
   "source": [
    "x_train = []\n",
    "y_train = []\n",
    "x_test = []\n",
    "y_test = []"
   ]
  },
  {
   "cell_type": "code",
   "execution_count": 11,
   "id": "tired-clone",
   "metadata": {},
   "outputs": [],
   "source": [
    "for i in range(day, len(train_scaled)):\n",
    "    x_train.append(train_scaled[i - day:i, 0])\n",
    "    y_train.append(train_scaled[i, 0])"
   ]
  },
  {
   "cell_type": "code",
   "execution_count": 12,
   "id": "innocent-release",
   "metadata": {},
   "outputs": [
    {
     "data": {
      "text/plain": [
       "(array([0.08770003, 0.08613116, 0.08770003, 0.08848447, 0.09789771,\n",
       "        0.09162222, 0.10181989, 0.09789771, 0.09475996, 0.09475996]),\n",
       " 0.09711327267022277)"
      ]
     },
     "execution_count": 12,
     "metadata": {},
     "output_type": "execute_result"
    }
   ],
   "source": [
    "x_train[20],y_train[20]"
   ]
  },
  {
   "cell_type": "code",
   "execution_count": 13,
   "id": "funky-genre",
   "metadata": {},
   "outputs": [],
   "source": [
    "np.random.seed(5)\n",
    "np.random.shuffle(x_train)\n",
    "np.random.seed(5)\n",
    "np.random.shuffle(y_train)\n",
    "tf.random.set_random_seed(5)"
   ]
  },
  {
   "cell_type": "code",
   "execution_count": 14,
   "id": "revolutionary-finish",
   "metadata": {},
   "outputs": [
    {
     "data": {
      "text/plain": [
       "(array([0.03608409, 0.03577032, 0.03671164, 0.03796674, 0.0359272 ,\n",
       "        0.03545654, 0.03639787, 0.03765297, 0.03812363, 0.03828051]),\n",
       " 0.03702541575149044)"
      ]
     },
     "execution_count": 14,
     "metadata": {},
     "output_type": "execute_result"
    }
   ],
   "source": [
    "x_train[20],y_train[20]"
   ]
  },
  {
   "cell_type": "code",
   "execution_count": 15,
   "id": "varying-sector",
   "metadata": {},
   "outputs": [],
   "source": [
    "#len(x_train),x_test[0]"
   ]
  },
  {
   "cell_type": "code",
   "execution_count": 16,
   "id": "revolutionary-titanium",
   "metadata": {},
   "outputs": [],
   "source": [
    "x_train = np.array(x_train)\n",
    "y_train = np.array(y_train)"
   ]
  },
  {
   "cell_type": "code",
   "execution_count": 17,
   "id": "better-diana",
   "metadata": {},
   "outputs": [],
   "source": [
    "for i in range(day, len(test_set)):\n",
    "    x_test.append(test_scaled[i - day:i, 0])\n",
    "    y_test.append(test_scaled[i, 0])"
   ]
  },
  {
   "cell_type": "code",
   "execution_count": 18,
   "id": "collected-plumbing",
   "metadata": {},
   "outputs": [
    {
     "data": {
      "text/plain": [
       "(array([0.87292124, 0.86507687, 0.88547223, 0.88860998, 0.90272984,\n",
       "        0.90429871, 0.89488547, 0.89174773, 0.89802322, 0.90116097]),\n",
       " 0.9011609664261062)"
      ]
     },
     "execution_count": 18,
     "metadata": {},
     "output_type": "execute_result"
    }
   ],
   "source": [
    "x_test[20],y_test[20]"
   ]
  },
  {
   "cell_type": "code",
   "execution_count": 19,
   "id": "taken-carrier",
   "metadata": {},
   "outputs": [],
   "source": [
    "x_test = np.array(x_test)\n",
    "y_test = np.array(y_test)"
   ]
  },
  {
   "cell_type": "code",
   "execution_count": 20,
   "id": "certain-sister",
   "metadata": {},
   "outputs": [],
   "source": [
    "x_train = np.reshape(x_train, (x_train.shape[0],day,1))\n",
    "x_test = np.reshape(x_test, (x_test.shape[0],day,1))\n",
    "#x_train = sequence.pad_sequences(x_train, maxlen=5)\n",
    "#x_test = sequence.pad_sequences(x_test, maxlen=5)"
   ]
  },
  {
   "cell_type": "code",
   "execution_count": 21,
   "id": "proprietary-weather",
   "metadata": {},
   "outputs": [
    {
     "data": {
      "text/plain": [
       "((5115, 10, 1), (146, 10, 1))"
      ]
     },
     "execution_count": 21,
     "metadata": {},
     "output_type": "execute_result"
    }
   ],
   "source": [
    "x_train.shape,x_test.shape"
   ]
  },
  {
   "cell_type": "code",
   "execution_count": 22,
   "id": "southwest-paradise",
   "metadata": {},
   "outputs": [
    {
     "name": "stdout",
     "output_type": "stream",
     "text": [
      "WARNING:tensorflow:From c:\\users\\watso\\appdata\\local\\programs\\python\\python36\\lib\\site-packages\\tensorflow\\python\\ops\\resource_variable_ops.py:435: colocate_with (from tensorflow.python.framework.ops) is deprecated and will be removed in a future version.\n",
      "Instructions for updating:\n",
      "Colocations handled automatically by placer.\n"
     ]
    }
   ],
   "source": [
    "model = Sequential()\n",
    "model.add(LSTM(units=100,return_sequences=True,input_shape = (x_train.shape[1], 1)))\n",
    "model.add(Dropout(0.2))\n",
    "model.add(LSTM(units = 80,activation='relu'))\n",
    "model.add(Dense(1, activation='sigmoid'))\n"
   ]
  },
  {
   "cell_type": "code",
   "execution_count": 23,
   "id": "cutting-planning",
   "metadata": {},
   "outputs": [
    {
     "name": "stdout",
     "output_type": "stream",
     "text": [
      "Model: \"sequential_1\"\n",
      "_________________________________________________________________\n",
      "Layer (type)                 Output Shape              Param #   \n",
      "=================================================================\n",
      "lstm_1 (LSTM)                (None, 10, 100)           40800     \n",
      "_________________________________________________________________\n",
      "dropout_1 (Dropout)          (None, 10, 100)           0         \n",
      "_________________________________________________________________\n",
      "lstm_2 (LSTM)                (None, 80)                57920     \n",
      "_________________________________________________________________\n",
      "dense_1 (Dense)              (None, 1)                 81        \n",
      "=================================================================\n",
      "Total params: 98,801\n",
      "Trainable params: 98,801\n",
      "Non-trainable params: 0\n",
      "_________________________________________________________________\n",
      "WARNING:tensorflow:From c:\\users\\watso\\appdata\\local\\programs\\python\\python36\\lib\\site-packages\\tensorflow\\python\\ops\\math_ops.py:3066: to_int32 (from tensorflow.python.ops.math_ops) is deprecated and will be removed in a future version.\n",
      "Instructions for updating:\n",
      "Use tf.cast instead.\n",
      "Epoch 1/100\n",
      "5115/5115 [==============================] - 2s 485us/step - loss: 0.0201 - accuracy: 3.9101e-04\n",
      "Epoch 2/100\n",
      "5115/5115 [==============================] - 2s 372us/step - loss: 3.4359e-04 - accuracy: 3.9101e-04\n",
      "Epoch 3/100\n",
      "5115/5115 [==============================] - 2s 379us/step - loss: 2.0419e-04 - accuracy: 3.9101e-04\n",
      "Epoch 4/100\n",
      "5115/5115 [==============================] - 2s 381us/step - loss: 1.9575e-04 - accuracy: 3.9101e-04\n",
      "Epoch 5/100\n",
      "5115/5115 [==============================] - 2s 383us/step - loss: 1.8992e-04 - accuracy: 3.9101e-040s - loss: 1.8853e-04 - accuracy: 4.\n",
      "Epoch 6/100\n",
      "5115/5115 [==============================] - 2s 384us/step - loss: 1.9196e-04 - accuracy: 3.9101e-04\n",
      "Epoch 7/100\n",
      "5115/5115 [==============================] - 2s 387us/step - loss: 1.9625e-04 - accuracy: 3.9101e-04\n",
      "Epoch 8/100\n",
      "5115/5115 [==============================] - 2s 389us/step - loss: 1.9595e-04 - accuracy: 3.9101e-04\n",
      "Epoch 9/100\n",
      "5115/5115 [==============================] - 2s 393us/step - loss: 1.9253e-04 - accuracy: 3.9101e-04\n",
      "Epoch 10/100\n",
      "5115/5115 [==============================] - 2s 381us/step - loss: 1.7614e-04 - accuracy: 3.9101e-04\n",
      "Epoch 11/100\n",
      "5115/5115 [==============================] - 2s 383us/step - loss: 1.7514e-04 - accuracy: 3.9101e-04\n",
      "Epoch 12/100\n",
      "5115/5115 [==============================] - 2s 369us/step - loss: 1.6838e-04 - accuracy: 3.9101e-040s - loss: 1.6779e-04 - accuracy: 4.0323e-\n",
      "Epoch 13/100\n",
      "5115/5115 [==============================] - 2s 385us/step - loss: 1.8829e-04 - accuracy: 3.9101e-04\n",
      "Epoch 14/100\n",
      "5115/5115 [==============================] - 2s 384us/step - loss: 1.5806e-04 - accuracy: 3.9101e-04\n",
      "Epoch 15/100\n",
      "5115/5115 [==============================] - 2s 385us/step - loss: 1.9055e-04 - accuracy: 3.9101e-04\n",
      "Epoch 16/100\n",
      "5115/5115 [==============================] - 2s 382us/step - loss: 1.6255e-04 - accuracy: 3.9101e-04\n",
      "Epoch 17/100\n",
      "5115/5115 [==============================] - 2s 383us/step - loss: 1.5031e-04 - accuracy: 3.9101e-04\n",
      "Epoch 18/100\n",
      "5115/5115 [==============================] - 2s 385us/step - loss: 1.6685e-04 - accuracy: 3.9101e-040s - loss: 1.6502e-04 - accuracy: 4.0584\n",
      "Epoch 19/100\n",
      "5115/5115 [==============================] - 2s 386us/step - loss: 1.6172e-04 - accuracy: 3.9101e-040s - loss: 1.7097e-0\n",
      "Epoch 20/100\n",
      "5115/5115 [==============================] - 2s 388us/step - loss: 1.5795e-04 - accuracy: 3.9101e-04\n",
      "Epoch 21/100\n",
      "5115/5115 [==============================] - 2s 381us/step - loss: 1.5322e-04 - accuracy: 3.9101e-04\n",
      "Epoch 22/100\n",
      "5115/5115 [==============================] - 2s 380us/step - loss: 1.8587e-04 - accuracy: 3.9101e-04\n",
      "Epoch 23/100\n",
      "5115/5115 [==============================] - 2s 392us/step - loss: 1.5296e-04 - accuracy: 3.9101e-04\n",
      "Epoch 24/100\n",
      "5115/5115 [==============================] - 2s 414us/step - loss: 1.3213e-04 - accuracy: 3.9101e-04\n",
      "Epoch 25/100\n",
      "5115/5115 [==============================] - 2s 399us/step - loss: 1.4157e-04 - accuracy: 3.9101e-04\n",
      "Epoch 26/100\n",
      "5115/5115 [==============================] - 2s 393us/step - loss: 1.3802e-04 - accuracy: 3.9101e-04\n",
      "Epoch 27/100\n",
      "5115/5115 [==============================] - 2s 408us/step - loss: 1.2976e-04 - accuracy: 3.9101e-04\n",
      "Epoch 28/100\n",
      "5115/5115 [==============================] - 2s 410us/step - loss: 1.2621e-04 - accuracy: 3.9101e-040s - loss: 1.264\n",
      "Epoch 29/100\n",
      "5115/5115 [==============================] - 2s 383us/step - loss: 1.2614e-04 - accuracy: 3.9101e-04 loss: 1.4542e-0 - ETA: 0s - loss: 1.3109e\n",
      "Epoch 30/100\n",
      "5115/5115 [==============================] - 2s 389us/step - loss: 1.2967e-04 - accuracy: 3.9101e-04\n",
      "Epoch 31/100\n",
      "5115/5115 [==============================] - 2s 388us/step - loss: 1.2438e-04 - accuracy: 3.9101e-04\n",
      "Epoch 32/100\n",
      "5115/5115 [==============================] - 2s 386us/step - loss: 1.1664e-04 - accuracy: 3.9101e-04\n",
      "Epoch 33/100\n",
      "5115/5115 [==============================] - 2s 384us/step - loss: 1.3802e-04 - accuracy: 3.9101e-04\n",
      "Epoch 34/100\n",
      "5115/5115 [==============================] - 2s 380us/step - loss: 1.2643e-04 - accuracy: 3.9101e-041s -\n",
      "Epoch 35/100\n",
      "5115/5115 [==============================] - 2s 387us/step - loss: 1.2057e-04 - accuracy: 3.9101e-040s - los\n",
      "Epoch 36/100\n",
      "5115/5115 [==============================] - 2s 393us/step - loss: 1.1936e-04 - accuracy: 3.9101e-04\n",
      "Epoch 37/100\n",
      "5115/5115 [==============================] - 2s 389us/step - loss: 1.1600e-04 - accuracy: 3.9101e-04\n",
      "Epoch 38/100\n",
      "5115/5115 [==============================] - 2s 399us/step - loss: 1.1001e-04 - accuracy: 3.9101e-04\n",
      "Epoch 39/100\n",
      "5115/5115 [==============================] - 2s 381us/step - loss: 1.1136e-04 - accuracy: 3.9101e-04\n",
      "Epoch 40/100\n",
      "5115/5115 [==============================] - 2s 398us/step - loss: 1.1640e-04 - accuracy: 3.9101e-04\n",
      "Epoch 41/100\n",
      "5115/5115 [==============================] - 2s 390us/step - loss: 1.1501e-04 - accuracy: 3.9101e-04\n",
      "Epoch 42/100\n",
      "5115/5115 [==============================] - 2s 405us/step - loss: 9.8281e-05 - accuracy: 3.9101e-04\n",
      "Epoch 43/100\n",
      "5115/5115 [==============================] - 2s 398us/step - loss: 1.0042e-04 - accuracy: 3.9101e-04\n",
      "Epoch 44/100\n",
      "5115/5115 [==============================] - 2s 402us/step - loss: 1.0445e-04 - accuracy: 3.9101e-04\n",
      "Epoch 45/100\n",
      "5115/5115 [==============================] - 2s 396us/step - loss: 1.0429e-04 - accuracy: 3.9101e-04\n",
      "Epoch 46/100\n",
      "5115/5115 [==============================] - 2s 392us/step - loss: 1.0322e-04 - accuracy: 3.9101e-04\n",
      "Epoch 47/100\n",
      "5115/5115 [==============================] - 2s 394us/step - loss: 8.4139e-05 - accuracy: 3.9101e-04\n",
      "Epoch 48/100\n",
      "5115/5115 [==============================] - 2s 394us/step - loss: 9.7226e-05 - accuracy: 3.9101e-041s\n",
      "Epoch 49/100\n",
      "5115/5115 [==============================] - 2s 396us/step - loss: 1.0299e-04 - accuracy: 3.9101e-04\n",
      "Epoch 50/100\n",
      "5115/5115 [==============================] - 2s 410us/step - loss: 9.3728e-05 - accuracy: 3.9101e-04\n",
      "Epoch 51/100\n",
      "5115/5115 [==============================] - 2s 393us/step - loss: 9.2373e-05 - accuracy: 3.9101e-04\n",
      "Epoch 52/100\n",
      "5115/5115 [==============================] - 2s 387us/step - loss: 9.0114e-05 - accuracy: 3.9101e-04\n",
      "Epoch 53/100\n",
      "5115/5115 [==============================] - 2s 387us/step - loss: 9.0616e-05 - accuracy: 3.9101e-04\n",
      "Epoch 54/100\n",
      "5115/5115 [==============================] - 2s 388us/step - loss: 8.7156e-05 - accuracy: 3.9101e-04\n",
      "Epoch 55/100\n",
      "5115/5115 [==============================] - 2s 379us/step - loss: 8.8297e-05 - accuracy: 3.9101e-04\n",
      "Epoch 56/100\n",
      "5115/5115 [==============================] - 2s 380us/step - loss: 9.2071e-05 - accuracy: 3.9101e-040s - loss: 9.3838e-05 - ac\n",
      "Epoch 57/100\n",
      "5115/5115 [==============================] - 2s 383us/step - loss: 8.5464e-05 - accuracy: 3.9101e-04\n",
      "Epoch 58/100\n",
      "5115/5115 [==============================] - 2s 384us/step - loss: 7.9789e-05 - accuracy: 3.9101e-04\n",
      "Epoch 59/100\n",
      "5115/5115 [==============================] - 2s 383us/step - loss: 8.6588e-05 - accuracy: 3.9101e-04\n",
      "Epoch 60/100\n"
     ]
    },
    {
     "name": "stdout",
     "output_type": "stream",
     "text": [
      "5115/5115 [==============================] - 2s 385us/step - loss: 8.0804e-05 - accuracy: 3.9101e-04\n",
      "Epoch 61/100\n",
      "5115/5115 [==============================] - 2s 375us/step - loss: 8.4363e-05 - accuracy: 3.9101e-04\n",
      "Epoch 62/100\n",
      "5115/5115 [==============================] - 2s 374us/step - loss: 8.2106e-05 - accuracy: 3.9101e-04\n",
      "Epoch 63/100\n",
      "5115/5115 [==============================] - 2s 375us/step - loss: 7.0825e-05 - accuracy: 3.9101e-04\n",
      "Epoch 64/100\n",
      "5115/5115 [==============================] - 2s 377us/step - loss: 8.7191e-05 - accuracy: 3.9101e-04\n",
      "Epoch 65/100\n",
      "5115/5115 [==============================] - 2s 377us/step - loss: 8.5537e-05 - accuracy: 3.9101e-04\n",
      "Epoch 66/100\n",
      "5115/5115 [==============================] - 2s 380us/step - loss: 7.4888e-05 - accuracy: 3.9101e-04\n",
      "Epoch 67/100\n",
      "5115/5115 [==============================] - 2s 378us/step - loss: 7.2357e-05 - accuracy: 3.9101e-04\n",
      "Epoch 68/100\n",
      "5115/5115 [==============================] - 2s 376us/step - loss: 7.8040e-05 - accuracy: 3.9101e-04\n",
      "Epoch 69/100\n",
      "5115/5115 [==============================] - 2s 382us/step - loss: 7.3186e-05 - accuracy: 3.9101e-04\n",
      "Epoch 70/100\n",
      "5115/5115 [==============================] - 2s 385us/step - loss: 6.9900e-05 - accuracy: 3.9101e-04\n",
      "Epoch 71/100\n",
      "5115/5115 [==============================] - 2s 389us/step - loss: 7.5875e-05 - accuracy: 3.9101e-04\n",
      "Epoch 72/100\n",
      "5115/5115 [==============================] - 2s 415us/step - loss: 7.4913e-05 - accuracy: 3.9101e-04\n",
      "Epoch 73/100\n",
      "5115/5115 [==============================] - 2s 407us/step - loss: 7.5176e-05 - accuracy: 3.9101e-04\n",
      "Epoch 74/100\n",
      "5115/5115 [==============================] - 2s 399us/step - loss: 6.8295e-05 - accuracy: 3.9101e-04\n",
      "Epoch 75/100\n",
      "5115/5115 [==============================] - 2s 396us/step - loss: 7.1818e-05 - accuracy: 3.9101e-04\n",
      "Epoch 76/100\n",
      "5115/5115 [==============================] - 2s 392us/step - loss: 7.3876e-05 - accuracy: 3.9101e-04\n",
      "Epoch 77/100\n",
      "5115/5115 [==============================] - 2s 390us/step - loss: 7.1243e-05 - accuracy: 3.9101e-040s - loss: 7.1502e-05 - accuracy: 3.9557e-\n",
      "Epoch 78/100\n",
      "5115/5115 [==============================] - 2s 391us/step - loss: 6.8689e-05 - accuracy: 3.9101e-04\n",
      "Epoch 79/100\n",
      "5115/5115 [==============================] - 2s 387us/step - loss: 7.2850e-05 - accuracy: 3.9101e-04\n",
      "Epoch 80/100\n",
      "5115/5115 [==============================] - 2s 387us/step - loss: 7.0781e-05 - accuracy: 3.9101e-040s - loss: 7.2109e-05 - accuracy: 4.25\n",
      "Epoch 81/100\n",
      "5115/5115 [==============================] - 2s 387us/step - loss: 6.9801e-05 - accuracy: 3.9101e-04\n",
      "Epoch 82/100\n",
      "5115/5115 [==============================] - 2s 391us/step - loss: 7.8276e-05 - accuracy: 3.9101e-04\n",
      "Epoch 83/100\n",
      "5115/5115 [==============================] - 2s 394us/step - loss: 7.0205e-05 - accuracy: 3.9101e-04\n",
      "Epoch 84/100\n",
      "5115/5115 [==============================] - 2s 394us/step - loss: 7.3157e-05 - accuracy: 3.9101e-04\n",
      "Epoch 85/100\n",
      "5115/5115 [==============================] - 2s 387us/step - loss: 6.9217e-05 - accuracy: 3.9101e-04\n",
      "Epoch 86/100\n",
      "5115/5115 [==============================] - 2s 386us/step - loss: 6.6298e-05 - accuracy: 3.9101e-04\n",
      "Epoch 87/100\n",
      "5115/5115 [==============================] - 2s 390us/step - loss: 6.6644e-05 - accuracy: 3.9101e-04\n",
      "Epoch 88/100\n",
      "5115/5115 [==============================] - 2s 393us/step - loss: 6.3096e-05 - accuracy: 3.9101e-04\n",
      "Epoch 89/100\n",
      "5115/5115 [==============================] - 2s 393us/step - loss: 7.1439e-05 - accuracy: 3.9101e-04\n",
      "Epoch 90/100\n",
      "5115/5115 [==============================] - 2s 397us/step - loss: 6.2771e-05 - accuracy: 3.9101e-04\n",
      "Epoch 91/100\n",
      "5115/5115 [==============================] - 2s 393us/step - loss: 7.0406e-05 - accuracy: 3.9101e-04\n",
      "Epoch 92/100\n",
      "5115/5115 [==============================] - 2s 394us/step - loss: 6.4331e-05 - accuracy: 3.9101e-04\n",
      "Epoch 93/100\n",
      "5115/5115 [==============================] - 2s 395us/step - loss: 6.7027e-05 - accuracy: 3.9101e-04\n",
      "Epoch 94/100\n",
      "5115/5115 [==============================] - 2s 398us/step - loss: 6.5836e-05 - accuracy: 3.9101e-04\n",
      "Epoch 95/100\n",
      "5115/5115 [==============================] - 2s 394us/step - loss: 6.5648e-05 - accuracy: 3.9101e-04\n",
      "Epoch 96/100\n",
      "5115/5115 [==============================] - 2s 398us/step - loss: 6.3941e-05 - accuracy: 3.9101e-04\n",
      "Epoch 97/100\n",
      "5115/5115 [==============================] - 2s 394us/step - loss: 6.4200e-05 - accuracy: 3.9101e-04\n",
      "Epoch 98/100\n",
      "5115/5115 [==============================] - 2s 400us/step - loss: 6.5236e-05 - accuracy: 3.9101e-04\n",
      "Epoch 99/100\n",
      "5115/5115 [==============================] - 2s 391us/step - loss: 6.4643e-05 - accuracy: 3.9101e-04\n",
      "Epoch 100/100\n",
      "5115/5115 [==============================] - 2s 396us/step - loss: 6.3487e-05 - accuracy: 3.9101e-04\n"
     ]
    },
    {
     "data": {
      "text/plain": [
       "<keras.callbacks.callbacks.History at 0x240aade7748>"
      ]
     },
     "execution_count": 23,
     "metadata": {},
     "output_type": "execute_result"
    }
   ],
   "source": [
    "model.compile(loss='mean_squared_error',optimizer='adam',metrics=['accuracy'])\n",
    "model.summary()\n",
    "model.fit(x_train,y_train,batch_size=32,epochs=100)"
   ]
  },
  {
   "cell_type": "code",
   "execution_count": 24,
   "id": "dangerous-cocktail",
   "metadata": {},
   "outputs": [],
   "source": [
    "predict_stock = model.predict(x_test)\n",
    "predict_stock = sc.inverse_transform(predict_stock)"
   ]
  },
  {
   "cell_type": "code",
   "execution_count": 25,
   "id": "surrounded-equation",
   "metadata": {},
   "outputs": [
    {
     "data": {
      "text/plain": [
       "numpy.ndarray"
      ]
     },
     "execution_count": 25,
     "metadata": {},
     "output_type": "execute_result"
    }
   ],
   "source": [
    "type(predict_stock)"
   ]
  },
  {
   "cell_type": "code",
   "execution_count": 26,
   "id": "eligible-disclaimer",
   "metadata": {},
   "outputs": [
    {
     "data": {
      "text/plain": [
       "(146, 1)"
      ]
     },
     "execution_count": 26,
     "metadata": {},
     "output_type": "execute_result"
    }
   ],
   "source": [
    "test_set[0:te-day].shape"
   ]
  },
  {
   "cell_type": "code",
   "execution_count": 27,
   "id": "cultural-transsexual",
   "metadata": {},
   "outputs": [
    {
     "data": {
      "image/png": "[encoded data removed]",
      "text/plain": [
       "<Figure size 432x288 with 1 Axes>"
      ]
     },
     "metadata": {
      "needs_background": "light"
     },
     "output_type": "display_data"
    }
   ],
   "source": [
    "plt.plot(test_set[day:te], color = 'blue', label = 'Real')\n",
    "plt.plot(predict_stock, color = 'green', label = 'Predicted')\n",
    "plt.title('Stock Price')\n",
    "plt.xlabel('Time')\n",
    "plt.ylabel('Stock Price')\n",
    "plt.legend()\n",
    "plt.show()"
   ]
  },
  {
   "cell_type": "code",
   "execution_count": 28,
   "id": "legitimate-belly",
   "metadata": {},
   "outputs": [],
   "source": [
    "model.save('stock_20.h')"
   ]
  },
  {
   "cell_type": "code",
   "execution_count": null,
   "id": "surprising-french",
   "metadata": {},
   "outputs": [],
   "source": []
  }
 ],
 "metadata": {
  "kernelspec": {
   "display_name": "Python 3",
   "language": "python",
   "name": "python3"
  },
  "language_info": {
   "codemirror_mode": {
    "name": "ipython",
    "version": 3
   },
   "file_extension": ".py",
   "mimetype": "text/x-python",
   "name": "python",
   "nbconvert_exporter": "python",
   "pygments_lexer": "ipython3",
   "version": "3.6.8"
  }
 },
 "nbformat": 4,
 "nbformat_minor": 5
}
